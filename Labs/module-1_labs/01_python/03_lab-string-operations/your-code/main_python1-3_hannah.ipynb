{
 "cells": [
  {
   "cell_type": "markdown",
   "metadata": {},
   "source": [
    "# Before your start:\n",
    "- Read the README.md file\n",
    "- Comment as much as you can and use the resources in the README.md file\n",
    "- Happy learning!"
   ]
  },
  {
   "cell_type": "code",
   "execution_count": 1,
   "metadata": {},
   "outputs": [],
   "source": [
    "import re"
   ]
  },
  {
   "cell_type": "markdown",
   "metadata": {},
   "source": [
    "# Challenge 1 - Combining Strings\n",
    "\n",
    "Combining strings is an important skill to acquire. There are multiple ways of combining strings in Python, as well as combining strings with variables. We will explore this in the first challenge. In the cell below, combine the strings in the list and add spaces between the strings (do not add a space after the last string). Insert a period after the last string."
   ]
  },
  {
   "cell_type": "code",
   "execution_count": 2,
   "metadata": {},
   "outputs": [],
   "source": [
    "str_list = ['Durante', 'un', 'tiempo', 'no', 'estuvo', 'segura', 'de', 'si', 'su', 'marido', 'era', 'su', 'marido']\n",
    "# Your code here:\n",
    "\n"
   ]
  },
  {
   "cell_type": "code",
   "execution_count": 1,
   "metadata": {},
   "outputs": [
    {
     "name": "stdout",
     "output_type": "stream",
     "text": [
      "marido2020-8-10_15:46\n",
      "su era marido su si de segura estuvo no tiempo un Durante marido2020-8-10_15:46\n"
     ]
    }
   ],
   "source": [
    "str_list = ['Durante', 'un', 'tiempo', 'no', 'estuvo', 'segura', 'de', 'si', 'su', 'marido', 'era', 'su', 'marido']\n",
    "# Your code here:\n",
    "\n",
    "comb = str_list[-1] + str(\"2020-8-10_15:46\")\n",
    "\n",
    "print(comb)\n",
    "\n",
    "\n",
    "for s in str_list[:-1]:\n",
    "    comb = s + \" \" + comb\n",
    "\n",
    "print(comb)\n",
    "    "
   ]
  },
  {
   "cell_type": "markdown",
   "metadata": {},
   "source": [
    "In the cell below, use the list of strings to create a grocery list. Start the list with the string `Grocery list: ` and include a comma and a space between each item except for the last one. Include a period at the end. Only include foods in the list that start with the letter 'b' and ensure all foods are lower case."
   ]
  },
  {
   "cell_type": "code",
   "execution_count": 2,
   "metadata": {},
   "outputs": [],
   "source": [
    "food_list = ['Bananas', 'Chocolate', 'bread', 'diapers', 'Ice Cream', 'Brownie Mix', 'broccoli']\n",
    "# Your code here:\n",
    "\n"
   ]
  },
  {
   "cell_type": "code",
   "execution_count": 3,
   "metadata": {},
   "outputs": [
    {
     "name": "stdout",
     "output_type": "stream",
     "text": [
      "Grocery list: Bananas, Chocolate, bread, diapers, Ice Cream, Brownie Mix,broccoli\n",
      "2020-8-10 16:11\n"
     ]
    }
   ],
   "source": [
    "food_list = ['Bananas', 'Chocolate', 'bread', 'diapers', 'Ice Cream', 'Brownie Mix', 'broccoli']\n",
    "# Your code here:\n",
    "\n",
    "#list with all \n",
    "\n",
    "gl = str(\"Grocery list: \")\n",
    "\n",
    "for f in food_list [:-2]:\n",
    "    gl += str(f) + \", \"\n",
    "\n",
    "gl += str(food_list[-2])    \n",
    "\n",
    "gl += str(\",\" + food_list[-1])\n",
    "\n",
    "gl += str(\"\\n2020-8-10 16:11\")\n",
    "\n",
    "print(gl)\n",
    "\n"
   ]
  },
  {
   "cell_type": "markdown",
   "metadata": {},
   "source": [
    "In the cell below, write a function that computes the area of a circle using its radius. Compute the area of the circle and insert the radius and the area between the two strings. Make sure to include spaces between the variable and the strings. \n",
    "\n",
    "Note: You can use the techniques we have learned so far or use f-strings. F-strings allow us to embed code inside strings. You can read more about f-strings [here](https://www.python.org/dev/peps/pep-0498/)."
   ]
  },
  {
   "cell_type": "code",
   "execution_count": 5,
   "metadata": {},
   "outputs": [],
   "source": [
    "import math\n",
    "\n",
    "string1 = \"The area of the circle with radius:\"\n",
    "string2  = \"is:\"\n",
    "radius = 4.5\n",
    "\n",
    "def area(x, pi = math.pi):\n",
    "    # This function takes a radius and returns the area of a circle. We also pass a default value for pi.\n",
    "    # Input: Float (and default value for pi)\n",
    "    # Output: Float\n",
    "    \n",
    "    # Sample input: 5.0\n",
    "    # Sample Output: 78.53981633\n",
    "    \n",
    "    # Your code here:\n",
    "    \n",
    "    \n",
    "# Your output string here:"
   ]
  },
  {
   "cell_type": "code",
   "execution_count": 4,
   "metadata": {},
   "outputs": [
    {
     "name": "stdout",
     "output_type": "stream",
     "text": [
      "['bread', 'broccoli']\n"
     ]
    }
   ],
   "source": [
    "food_list = ['Bananas', 'Chocolate', 'bread', 'diapers', 'Ice Cream', 'Brownie Mix', 'broccoli']\n",
    "# Your code here:\n",
    "\n",
    "# list with b-foods only\n",
    "\n",
    "bfood = []\n",
    "type(bfood)\n",
    "\n",
    "for f in food_list[0:]:\n",
    "    fl = str(f)\n",
    "    if fl[0] == \"b\":\n",
    "        bfood.append(fl)\n",
    "\n",
    "print(bfood)"
   ]
  },
  {
   "cell_type": "markdown",
   "metadata": {},
   "source": [
    "# Challenge 2 - Splitting Strings\n",
    "\n",
    "We have first looked at combining strings into one long string. There are times where we need to do the opposite and split the string into smaller components for further analysis. \n",
    "\n",
    "In the cell below, split the string into a list of strings using the space delimiter. Count the frequency of each word in the string in a dictionary. Strip the periods, line breaks and commas from the text. Make sure to remove empty strings from your dictionary."
   ]
  },
  {
   "cell_type": "code",
   "execution_count": 7,
   "metadata": {},
   "outputs": [],
   "source": [
    "poem = \"\"\"Some say the world will end in fire,\n",
    "Some say in ice.\n",
    "From what I’ve tasted of desire\n",
    "I hold with those who favor fire.\n",
    "But if it had to perish twice,\n",
    "I think I know enough of hate\n",
    "To say that for destruction ice\n",
    "Is also great\n",
    "And would suffice.\"\"\"\n",
    "\n",
    "# Your code here:\n",
    "\n"
   ]
  },
  {
   "cell_type": "code",
   "execution_count": 11,
   "metadata": {},
   "outputs": [
    {
     "name": "stdout",
     "output_type": "stream",
     "text": [
      "\n",
      "word:    I \n",
      "count:    7\n",
      "\n",
      "word:    was \n",
      "count:    3\n",
      "\n",
      "word:    angry \n",
      "count:    2\n",
      "\n",
      "word:    with \n",
      "count:    5\n",
      "\n",
      "word:    my \n",
      "count:    8\n",
      "\n",
      "word:    friend; \n",
      "count:    1\n",
      "\n",
      "word:    I \n",
      "count:    7\n",
      "\n",
      "word:    told \n",
      "count:    2\n",
      "\n",
      "word:    my \n",
      "count:    8\n",
      "\n",
      "word:    wrath, \n",
      "count:    1\n",
      "\n",
      "word:    my \n",
      "count:    8\n",
      "\n",
      "word:    wrath \n",
      "count:    2\n",
      "\n",
      "word:    did \n",
      "count:    2\n",
      "\n",
      "word:    end. \n",
      "count:    1\n",
      "\n",
      "word:    I \n",
      "count:    7\n",
      "\n",
      "word:    was \n",
      "count:    3\n",
      "\n",
      "word:    angry \n",
      "count:    2\n",
      "\n",
      "word:    with \n",
      "count:    5\n",
      "\n",
      "word:    my \n",
      "count:    8\n",
      "\n",
      "word:    foe: \n",
      "count:    1\n",
      "\n",
      "word:    I \n",
      "count:    7\n",
      "\n",
      "word:    told \n",
      "count:    2\n",
      "\n",
      "word:    it \n",
      "count:    7\n",
      "\n",
      "word:    not, \n",
      "count:    1\n",
      "\n",
      "word:    my \n",
      "count:    8\n",
      "\n",
      "word:    wrath \n",
      "count:    2\n",
      "\n",
      "word:    did \n",
      "count:    2\n",
      "\n",
      "word:    grow. \n",
      "count:    1\n",
      "\n",
      "word:    And \n",
      "count:    7\n",
      "\n",
      "word:    I \n",
      "count:    7\n",
      "\n",
      "word:    waterd \n",
      "count:    1\n",
      "\n",
      "word:    it \n",
      "count:    7\n",
      "\n",
      "word:    in \n",
      "count:    1\n",
      "\n",
      "word:    fears, \n",
      "count:    1\n",
      "\n",
      "word:    Night \n",
      "count:    1\n",
      "\n",
      "word:    & \n",
      "count:    1\n",
      "\n",
      "word:    morning \n",
      "count:    2\n",
      "\n",
      "word:    with \n",
      "count:    5\n",
      "\n",
      "word:    my \n",
      "count:    8\n",
      "\n",
      "word:    tears: \n",
      "count:    1\n",
      "\n",
      "word:    And \n",
      "count:    7\n",
      "\n",
      "word:    I \n",
      "count:    7\n",
      "\n",
      "word:    sunned \n",
      "count:    1\n",
      "\n",
      "word:    it \n",
      "count:    7\n",
      "\n",
      "word:    with \n",
      "count:    5\n",
      "\n",
      "word:    smiles, \n",
      "count:    1\n",
      "\n",
      "word:    And \n",
      "count:    7\n",
      "\n",
      "word:    with \n",
      "count:    5\n",
      "\n",
      "word:    soft \n",
      "count:    1\n",
      "\n",
      "word:    deceitful \n",
      "count:    1\n",
      "\n",
      "word:    wiles. \n",
      "count:    1\n",
      "\n",
      "word:    And \n",
      "count:    7\n",
      "\n",
      "word:    it \n",
      "count:    7\n",
      "\n",
      "word:    grew \n",
      "count:    1\n",
      "\n",
      "word:    both \n",
      "count:    1\n",
      "\n",
      "word:    day \n",
      "count:    1\n",
      "\n",
      "word:    and \n",
      "count:    1\n",
      "\n",
      "word:    night. \n",
      "count:    1\n",
      "\n",
      "word:    Till \n",
      "count:    1\n",
      "\n",
      "word:    it \n",
      "count:    7\n",
      "\n",
      "word:    bore \n",
      "count:    1\n",
      "\n",
      "word:    an \n",
      "count:    1\n",
      "\n",
      "word:    apple \n",
      "count:    1\n",
      "\n",
      "word:    bright. \n",
      "count:    1\n",
      "\n",
      "word:    And \n",
      "count:    7\n",
      "\n",
      "word:    my \n",
      "count:    8\n",
      "\n",
      "word:    foe \n",
      "count:    2\n",
      "\n",
      "word:    beheld \n",
      "count:    1\n",
      "\n",
      "word:    it \n",
      "count:    7\n",
      "\n",
      "word:    shine, \n",
      "count:    1\n",
      "\n",
      "word:    And \n",
      "count:    7\n",
      "\n",
      "word:    he \n",
      "count:    1\n",
      "\n",
      "word:    knew \n",
      "count:    1\n",
      "\n",
      "word:    that \n",
      "count:    1\n",
      "\n",
      "word:    it \n",
      "count:    7\n",
      "\n",
      "word:    was \n",
      "count:    3\n",
      "\n",
      "word:    mine. \n",
      "count:    1\n",
      "\n",
      "word:    And \n",
      "count:    7\n",
      "\n",
      "word:    into \n",
      "count:    1\n",
      "\n",
      "word:    my \n",
      "count:    8\n",
      "\n",
      "word:    garden \n",
      "count:    1\n",
      "\n",
      "word:    stole, \n",
      "count:    1\n",
      "\n",
      "word:    When \n",
      "count:    1\n",
      "\n",
      "word:    the \n",
      "count:    4\n",
      "\n",
      "word:    night \n",
      "count:    1\n",
      "\n",
      "word:    had \n",
      "count:    1\n",
      "\n",
      "word:    veild \n",
      "count:    1\n",
      "\n",
      "word:    the \n",
      "count:    4\n",
      "\n",
      "word:    pole; \n",
      "count:    1\n",
      "\n",
      "word:    In \n",
      "count:    1\n",
      "\n",
      "word:    the \n",
      "count:    4\n",
      "\n",
      "word:    morning \n",
      "count:    2\n",
      "\n",
      "word:    glad \n",
      "count:    1\n",
      "\n",
      "word:    I \n",
      "count:    7\n",
      "\n",
      "word:    see; \n",
      "count:    1\n",
      "\n",
      "word:    My \n",
      "count:    1\n",
      "\n",
      "word:    foe \n",
      "count:    2\n",
      "\n",
      "word:    outstretched \n",
      "count:    1\n",
      "\n",
      "word:    beneath \n",
      "count:    1\n",
      "\n",
      "word:    the \n",
      "count:    4\n",
      "\n",
      "word:    tree. \n",
      "count:    1\n",
      "\n",
      "DICTIONARY: \n",
      "\n",
      "{'I': 7, 'was': 3, 'angry': 2, 'with': 5, 'my': 8, 'friend;': 1, 'told': 2, 'wrath,': 1, 'wrath': 2, 'did': 2, 'end.': 1, 'foe:': 1, 'it': 7, 'not,': 1, 'grow.': 1, 'And': 7, 'waterd': 1, 'in': 1, 'fears,': 1, 'Night': 1, '&': 1, 'morning': 2, 'tears:': 1, 'sunned': 1, 'smiles,': 1, 'soft': 1, 'deceitful': 1, 'wiles.': 1, 'grew': 1, 'both': 1, 'day': 1, 'and': 1, 'night.': 1, 'Till': 1, 'bore': 1, 'an': 1, 'apple': 1, 'bright.': 1, 'foe': 2, 'beheld': 1, 'shine,': 1, 'he': 1, 'knew': 1, 'that': 1, 'mine.': 1, 'into': 1, 'garden': 1, 'stole,': 1, 'When': 1, 'the': 4, 'night': 1, 'had': 1, 'veild': 1, 'pole;': 1, 'In': 1, 'glad': 1, 'see;': 1, 'My': 1, 'outstretched': 1, 'beneath': 1, 'tree.': 1}\n"
     ]
    }
   ],
   "source": [
    "mystr = str(poem)\n",
    "\n",
    "s = poem.split()\n",
    "\n",
    "myd = {}\n",
    "\n",
    "cv = 0\n",
    "\n",
    "d = dict.fromkeys(s,cv)\n",
    "\n",
    "\n",
    "for word in s[0:]:\n",
    "    cv = int(s.count(word))\n",
    "    d[word] = cv\n",
    "    print(\"\\nword:   \",word, \"\\ncount:   \",cv)\n",
    "\n",
    "\n",
    "print(\"\\nDICTIONARY: \\n\")\n",
    "print(d)\n",
    "\n",
    "    "
   ]
  },
  {
   "cell_type": "markdown",
   "metadata": {},
   "source": [
    "In the cell below, find all the words that appear in the text and do not appear in the blacklist. You must parse the string but can choose any data structure you wish for the words that do not appear in the blacklist. Remove all non letter characters and convert all words to lower case."
   ]
  },
  {
   "cell_type": "code",
   "execution_count": 13,
   "metadata": {},
   "outputs": [
    {
     "name": "stdout",
     "output_type": "stream",
     "text": [
      "['i', 'was', 'angry', 'with', 'my', 'friend;', 'i', 'told', 'my', 'wrath,', 'my', 'wrath', 'did', 'end.', 'i', 'was', 'angry', 'with', 'my', 'foe:', 'i', 'told', 'it', 'not,', 'my', 'wrath', 'did', 'grow.', 'and', 'i', 'waterd', 'it', 'in', 'fears,', 'night', '&', 'morning', 'with', 'my', 'tears:', 'and', 'i', 'sunned', 'it', 'with', 'smiles,', 'and', 'with', 'soft', 'deceitful', 'wiles.', 'and', 'it', 'grew', 'both', 'day', 'and', 'night.', 'till', 'it', 'bore', 'an', 'apple', 'bright.', 'and', 'my', 'foe', 'beheld', 'it', 'shine,', 'and', 'he', 'knew', 'that', 'it', 'was', 'mine.', 'and', 'into', 'my', 'garden', 'stole,', 'when', 'the', 'night', 'had', 'veild', 'the', 'pole;', 'in', 'the', 'morning', 'glad', 'i', 'see;', 'my', 'foe', 'outstretched', 'beneath', 'the', 'tree.']\n"
     ]
    }
   ],
   "source": [
    "org = poem.split()\n",
    "\n",
    "low = []\n",
    "\n",
    "for word in org[0:]:\n",
    "    nw = str(word).lower()\n",
    "    low.append(str(nw))\n",
    "    \n",
    "print(low)\n",
    "    "
   ]
  },
  {
   "cell_type": "code",
   "execution_count": 14,
   "metadata": {},
   "outputs": [
    {
     "name": "stdout",
     "output_type": "stream",
     "text": [
      "\n",
      "  ... popping the word ...\n",
      "\n",
      "      \" and \"\n",
      "\n",
      "  ... popping the word ...\n",
      "\n",
      "      \" an \"\n",
      "\n",
      "  ... popping the word ...\n",
      "\n",
      "      \" the \"\n",
      "\n",
      "  ... popping the word ...\n",
      "\n",
      "      \" in \"\n",
      "\n",
      "  ... popping the word ...\n",
      "\n",
      "      \" it \"\n",
      "\n",
      "FINAL LIST: \n",
      "\n",
      "['I', 'was', 'angry', 'with', 'my', 'friend;', 'I', 'told', 'my', 'wrath,', 'my', 'wrath', 'did', 'end.', 'I', 'was', 'angry', 'with', 'my', 'foe:', 'I', 'told', 'not,', 'my', 'wrath', 'did', 'grow.', 'And', 'I', 'waterd', 'it', 'fears,', 'Night', '&', 'morning', 'with', 'my', 'tears:', 'And', 'I', 'sunned', 'it', 'with', 'smiles,', 'And', 'with', 'soft', 'deceitful', 'wiles.', 'And', 'it', 'grew', 'both', 'day', 'night.', 'Till', 'it', 'bore', 'apple', 'bright.', 'And', 'my', 'foe', 'beheld', 'it', 'shine,', 'And', 'he', 'knew', 'that', 'it', 'was', 'mine.', 'And', 'into', 'my', 'garden', 'stole,', 'When', 'night', 'had', 'veild', 'the', 'pole;', 'In', 'the', 'morning', 'glad', 'I', 'see;', 'My', 'foe', 'outstretched', 'beneath', 'the', 'tree.']\n"
     ]
    }
   ],
   "source": [
    "\n",
    "g = poem.split()\n",
    "\n",
    "\n",
    "for word in blacklist[0:]:\n",
    "    if word in g:\n",
    "        print(\"\\n  ... popping the word ...\")\n",
    "        print(\"\\n      \\\"\", word,\"\\\"\")\n",
    "        g.remove(str(word))\n",
    "        \n",
    "print(\"\\nFINAL LIST: \\n\")\n",
    "print(g)\n",
    "        \n",
    "\n"
   ]
  },
  {
   "cell_type": "markdown",
   "metadata": {},
   "source": [
    "# Challenge 3 - Regular Expressions\n",
    "\n",
    "Sometimes, we would like to perform more complex manipulations of our string. This is where regular expressions come in handy. In the cell below, return all characters that are upper case from the string specified below."
   ]
  },
  {
   "cell_type": "code",
   "execution_count": 8,
   "metadata": {},
   "outputs": [],
   "source": [
    "poem = \"\"\"The apparition of these faces in the crowd;\n",
    "Petals on a wet, black bough.\"\"\"\n",
    "\n",
    "# Your code here:\n",
    "\n"
   ]
  },
  {
   "cell_type": "code",
   "execution_count": 15,
   "metadata": {},
   "outputs": [
    {
     "data": {
      "text/plain": [
       "['I',\n",
       " 'I',\n",
       " 'I',\n",
       " ':',\n",
       " 'I',\n",
       " 'A',\n",
       " 'I',\n",
       " 'N',\n",
       " '&',\n",
       " ':',\n",
       " 'A',\n",
       " 'I',\n",
       " 'A',\n",
       " 'A',\n",
       " 'T',\n",
       " 'A',\n",
       " 'A',\n",
       " 'A',\n",
       " 'W',\n",
       " 'I',\n",
       " 'I',\n",
       " 'M']"
      ]
     },
     "execution_count": 15,
     "metadata": {},
     "output_type": "execute_result"
    }
   ],
   "source": [
    "all = poem.split()\n",
    "all\n",
    "\n",
    "ss = \"\"\n",
    "\n",
    "for w in all [0:]:\n",
    "    ss = ss + w\n",
    "\n",
    "ss\n",
    "\n",
    "ups = []\n",
    "\n",
    "for l in ss [0:]:\n",
    "    if l == \",\" or l == \";\" or l == \".\":\n",
    "        continue\n",
    "    elif l == l.upper():\n",
    "        ups.append(l)\n",
    "ups"
   ]
  },
  {
   "cell_type": "markdown",
   "metadata": {},
   "source": [
    "In the cell below, filter the list provided and return all elements of the list containing a number. To filter the list, use the `re.search` function. Check if the function does not return `None`. You can read more about the `re.search` function [here](https://docs.python.org/3/library/re.html)."
   ]
  },
  {
   "cell_type": "code",
   "execution_count": 9,
   "metadata": {},
   "outputs": [],
   "source": [
    "data = ['123abc', 'abc123', 'JohnSmith1', 'ABBY4', 'JANE']\n",
    "\n",
    "# Your code here:\n"
   ]
  },
  {
   "cell_type": "code",
   "execution_count": 16,
   "metadata": {},
   "outputs": [],
   "source": [
    "data = ['123abc', 'abc123', 'JohnSmith1', 'ABBY4', 'JANE']\n",
    "\n",
    "# Your code here:\n"
   ]
  },
  {
   "cell_type": "markdown",
   "metadata": {},
   "source": [
    "# Bonus Challenge - Regular Expressions II\n",
    "\n",
    "In the cell below, filter the list provided to keep only strings containing at least one digit and at least one lower case letter. As in the previous question, use the `re.search` function and check that the result is not `None`.\n",
    "\n",
    "To read more about regular expressions, check out [this link](https://developers.google.com/edu/python/regular-expressions)."
   ]
  },
  {
   "cell_type": "code",
   "execution_count": 10,
   "metadata": {},
   "outputs": [],
   "source": [
    "data = ['123abc', 'abc123', 'JohnSmith1', 'ABBY4', 'JANE']\n",
    "# Your code here:\n"
   ]
  },
  {
   "cell_type": "code",
   "execution_count": 17,
   "metadata": {},
   "outputs": [
    {
     "data": {
      "text/plain": [
       "['123abc', 'abc123', 'JohnSmith1', 'ABBY4']"
      ]
     },
     "execution_count": 17,
     "metadata": {},
     "output_type": "execute_result"
    }
   ],
   "source": [
    "import re\n",
    "\n",
    "filter = []\n",
    "for x in data[0:]: \n",
    "    n = re.search('\\d', x)\n",
    "    if n != None:\n",
    "        filter.append(x)\n",
    "filter\n"
   ]
  },
  {
   "cell_type": "code",
   "execution_count": null,
   "metadata": {},
   "outputs": [],
   "source": []
  }
 ],
 "metadata": {
  "kernelspec": {
   "display_name": "Python 3",
   "language": "python",
   "name": "python3"
  },
  "language_info": {
   "codemirror_mode": {
    "name": "ipython",
    "version": 3
   },
   "file_extension": ".py",
   "mimetype": "text/x-python",
   "name": "python",
   "nbconvert_exporter": "python",
   "pygments_lexer": "ipython3",
   "version": "3.8.3"
  }
 },
 "nbformat": 4,
 "nbformat_minor": 4
}
