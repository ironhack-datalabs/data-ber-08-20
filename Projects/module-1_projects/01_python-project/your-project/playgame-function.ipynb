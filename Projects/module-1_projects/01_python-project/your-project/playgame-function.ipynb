{
 "cells": [
  {
   "cell_type": "code",
   "execution_count": 20,
   "metadata": {},
   "outputs": [],
   "source": [
    "def playit():\n",
    "    import string, random, sys, os, time, difflib, optparse\n",
    "    \n",
    "#mystery = mys\n",
    "    mys_str = input(\"Secret word:  \")\n",
    "    mys_str = mys_str.upper()\n",
    "    mys_let = [char for char in mys_str] \n",
    "    word = str(mys_str)\n",
    "    \n",
    "    #w for wrong guesses\n",
    "    w = 0\n",
    "    print(\"\\n \\n \\n \\n \\n \\n \\n \\n \\n  .  .  .  .  .  .  .  .  .  .  .  .  .  .  .  .  .  .  .  .  .  .  .  .  .  \\n\")\n",
    "    %run hannahs-hangman-printer.ipynb\n",
    "    hangprint(w)\n",
    "    \n",
    "    guess = ['_'] * len(word)\n",
    "   \n",
    "    chances = 11\n",
    "\n",
    "    while '_' in guess and chances > 0:\n",
    "\n",
    "        print('\\n \\n           secret word: ',' '.join(guess), '\\n \\n \\n  .  .  .  .  .  .  .  .  .  .  .  .  .  .  .  .  .  .  .  .  .  .  .  .  .  \\n')\n",
    "\n",
    "        char = input('\\n Enter char: ').upper()\n",
    "\n",
    "        if len(char) > 1:\n",
    "            print('\\n Please enter only one char.')\n",
    "            continue\n",
    "\n",
    "        if char not in word:\n",
    "            chances -= 1\n",
    "            w += 1\n",
    "\n",
    "            if chances == 0:\n",
    "                %run hannahs-hangman-printer.ipynb\n",
    "                hangprint(w)\n",
    "                break\n",
    "            else:\n",
    "                %run hannahs-hangman-printer.ipynb\n",
    "                hangprint(w)\n",
    "        else:\n",
    "            for i, x in enumerate(word):\n",
    "                if x == char:\n",
    "                    guess[i] = char\n",
    "    else:\n",
    "        print('\\n \\n🏆 You got it! 🏆 \\n \\n The word was:', ''.join(guess), '\\n \\n👏 Congratulations! 👏')\n"
   ]
  },
  {
   "cell_type": "code",
   "execution_count": null,
   "metadata": {},
   "outputs": [],
   "source": []
  }
 ],
 "metadata": {
  "kernelspec": {
   "display_name": "Python 3",
   "language": "python",
   "name": "python3"
  },
  "language_info": {
   "codemirror_mode": {
    "name": "ipython",
    "version": 3
   },
   "file_extension": ".py",
   "mimetype": "text/x-python",
   "name": "python",
   "nbconvert_exporter": "python",
   "pygments_lexer": "ipython3",
   "version": "3.8.3"
  }
 },
 "nbformat": 4,
 "nbformat_minor": 4
}
