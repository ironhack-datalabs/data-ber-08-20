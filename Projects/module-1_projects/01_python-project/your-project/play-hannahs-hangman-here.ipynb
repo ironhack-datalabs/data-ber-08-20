{
 "cells": [
  {
   "cell_type": "code",
   "execution_count": null,
   "metadata": {},
   "outputs": [],
   "source": [
    "def wannaplay():\n",
    "    print(\" \\n \\n \\n 🏁 Wanna start a new hangman game? 🏁 \\n\")\n",
    "    print(\"\\n Enter anything and press enter to start.\")\n",
    "    print(\"\\n Enter >no< to exit.\")\n",
    "    start = input(\" \")\n",
    "    start = str(start)\n",
    "    if start == \"no\":\n",
    "        print(\"ok, bye bye 👋\")\n",
    "    else:\n",
    "        print(\"\\n \\n🌠 great, here we go! 🌠 \\n \\n \\n👇 player 1, please enter your secret word, player 2 look away 👀\")\n",
    "        %run playgame-function.ipynb\n",
    "        playit()\n",
    "        \n",
    "        "
   ]
  },
  {
   "cell_type": "code",
   "execution_count": null,
   "metadata": {},
   "outputs": [],
   "source": [
    "def game():\n",
    "    while True:\n",
    "        wannaplay()"
   ]
  },
  {
   "cell_type": "code",
   "execution_count": null,
   "metadata": {},
   "outputs": [],
   "source": [
    "game()"
   ]
  },
  {
   "cell_type": "code",
   "execution_count": null,
   "metadata": {},
   "outputs": [],
   "source": []
  },
  {
   "cell_type": "code",
   "execution_count": null,
   "metadata": {},
   "outputs": [],
   "source": []
  }
 ],
 "metadata": {
  "kernelspec": {
   "display_name": "Python 3",
   "language": "python",
   "name": "python3"
  },
  "language_info": {
   "codemirror_mode": {
    "name": "ipython",
    "version": 3
   },
   "file_extension": ".py",
   "mimetype": "text/x-python",
   "name": "python",
   "nbconvert_exporter": "python",
   "pygments_lexer": "ipython3",
   "version": "3.8.3"
  }
 },
 "nbformat": 4,
 "nbformat_minor": 4
}
