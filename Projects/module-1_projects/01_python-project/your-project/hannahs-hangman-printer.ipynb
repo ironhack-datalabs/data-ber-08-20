{
 "cells": [
  {
   "cell_type": "markdown",
   "metadata": {},
   "source": [
    "# Hangman Printer"
   ]
  },
  {
   "cell_type": "code",
   "execution_count": 1,
   "metadata": {},
   "outputs": [],
   "source": [
    "import string, random, sys, os, time, difflib, optparse"
   ]
  },
  {
   "cell_type": "code",
   "execution_count": 2,
   "metadata": {},
   "outputs": [],
   "source": [
    "# printer function to print left trys for each round\n",
    "def printtry(y):\n",
    "    if y == 10:\n",
    "        print(\"\\n \\n  ☛ ☛\",(11-y), \"☚ ☚ \\n\",\"   try left\\n\")\n",
    "    elif y == 11:\n",
    "        print(\"\\n \\nnice try! \\nplay aigain? \\n\")\n",
    "    else:\n",
    "        print(\"\\n \\n  ☛ ☛\",(11-y), \"☚ ☚ \\n\",\"   trys left\\n\")"
   ]
  },
  {
   "cell_type": "code",
   "execution_count": 3,
   "metadata": {},
   "outputs": [],
   "source": [
    "def ph1():\n",
    "    print(\"\\n _______________ \",\"\\n|               |\", \"\\n|               |\", \"\\n|               |\", \"\\n|               |\", \"\\n|               |\", \"\\n|               |\", \"\\n|        /_\\    |\", \"\\n|               |\", \"\\n|_______________|\")\n",
    "    printtry(1)"
   ]
  },
  {
   "cell_type": "code",
   "execution_count": 4,
   "metadata": {},
   "outputs": [],
   "source": [
    "def ph2():\n",
    "    print(\"\\n _______________  \",\"\\n|               | \",\"\\n|               | \",\"\\n|         |     | \",\"\\n|         |     | \",\"\\n|         |     | \",\"\\n|         |     | \",\"\\n|        /_\\    | \",\"\\n|               | \",\"\\n|_______________| \")\n",
    "    printtry(2)"
   ]
  },
  {
   "cell_type": "code",
   "execution_count": 5,
   "metadata": {},
   "outputs": [],
   "source": [
    "def ph3():\n",
    "    print(\"\\n _______________  \",\"\\n|               | \",\"\\n|               | \",\"\\n|        \\|     | \",\"\\n|         |     | \",\"\\n|         |     | \",\"\\n|         |     | \",\"\\n|        /_\\    | \",\"\\n|               | \",\"\\n|_______________| \")\n",
    "    printtry(3)"
   ]
  },
  {
   "cell_type": "code",
   "execution_count": 6,
   "metadata": {},
   "outputs": [],
   "source": [
    "def ph4():\n",
    "    print(\"\\n _______________  \",\"\\n|               | \",\"\\n|    ______     | \",\"\\n|        \\|     | \",\"\\n|         |     | \",\"\\n|         |     | \",\"\\n|         |     | \",\"\\n|        /_\\    | \",\"\\n|               | \",\"\\n|_______________| \")\n",
    "    printtry(4)"
   ]
  },
  {
   "cell_type": "code",
   "execution_count": 7,
   "metadata": {},
   "outputs": [],
   "source": [
    "def ph5():\n",
    "    print(\"\\n _______________  \",\"\\n|               | \",\"\\n|    ______     | \",\"\\n|    |   \\|     | \",\"\\n|         |     | \",\"\\n|         |     | \",\"\\n|         |     | \",\"\\n|        /_\\    | \",\"\\n|               | \",\"\\n|_______________| \")\n",
    "    printtry(5)"
   ]
  },
  {
   "cell_type": "code",
   "execution_count": 8,
   "metadata": {},
   "outputs": [],
   "source": [
    "def ph6():\n",
    "    print(\"\\n _______________  \",\"\\n|               | \",\"\\n|    ______     | \",\"\\n|    |   \\|     | \",\"\\n|    o    |     | \",\"\\n|         |     | \",\"\\n|         |     | \",\"\\n|        /_\\    | \",\"\\n|               | \",\"\\n|_______________| \")\n",
    "    printtry(6)"
   ]
  },
  {
   "cell_type": "code",
   "execution_count": 9,
   "metadata": {},
   "outputs": [],
   "source": [
    "def ph7():\n",
    "    print(\"\\n _______________  \",\"\\n|               | \",\"\\n|    ______     | \",\"\\n|    |   \\|     | \",\"\\n|    o    |     | \",\"\\n|    |    |     | \",\"\\n|         |     | \",\"\\n|        /_\\    | \",\"\\n|               | \",\"\\n|_______________| \")\n",
    "    printtry(7)"
   ]
  },
  {
   "cell_type": "code",
   "execution_count": 10,
   "metadata": {},
   "outputs": [],
   "source": [
    "def ph8():\n",
    "    print(\"\\n _______________  \",\"\\n|               | \",\"\\n|    ______     | \",\"\\n|    |   \\|     | \",\"\\n|    o    |     | \",\"\\n|    |/   |     | \",\"\\n|         |     | \",\"\\n|        /_\\    | \",\"\\n|               | \",\"\\n|_______________| \")\n",
    "    printtry(8)"
   ]
  },
  {
   "cell_type": "code",
   "execution_count": 11,
   "metadata": {},
   "outputs": [],
   "source": [
    "def ph9():\n",
    "    print(\"\\n _______________  \",\"\\n|               | \",\"\\n|    ______     | \",\"\\n|    |   \\|     | \",\"\\n|    o    |     | \",\"\\n|   \\|/   |     | \",\"\\n|         |     | \",\"\\n|        /_\\    | \",\"\\n|               | \",\"\\n|_______________| \")\n",
    "    printtry(9)"
   ]
  },
  {
   "cell_type": "code",
   "execution_count": 12,
   "metadata": {},
   "outputs": [],
   "source": [
    "def ph10():\n",
    "    print(\"\\n _______________  \",\"\\n|               | \",\"\\n|    ______     | \",\"\\n|    |   \\|     | \",\"\\n|    o    |     | \",\"\\n|   \\|/   |     | \",\"\\n|     \\   |     | \",\"\\n|        /_\\    | \",\"\\n|               | \",\"\\n|_______________| \")\n",
    "    printtry(10)"
   ]
  },
  {
   "cell_type": "code",
   "execution_count": 13,
   "metadata": {},
   "outputs": [],
   "source": [
    "def ph11():\n",
    "    print(\"\\n _______________  \",\"\\n|               | \",\"\\n|    ______     | \",\"\\n|    |   \\|     | \",\"\\n|    o    |     | \",\"\\n|   \\|/   |     | \",\"\\n|   / \\   |     | \",\"\\n|        /_\\    | \",\"\\n|               | \",\"\\n|_______________| \")\n",
    "    printtry(11)"
   ]
  },
  {
   "cell_type": "code",
   "execution_count": 14,
   "metadata": {},
   "outputs": [],
   "source": [
    "def hangprint(x):\n",
    "    if x == 0:\n",
    "        print(\"\\n _______________  \",\"\\n|               | \",\"\\n|               | \",\"\\n| READY?        | \",\"\\n|               | \",\"\\n|   LET'S GO!   | \",\"\\n|               | \",\"\\n|               | \",\"\\n|               | \",\"\\n|_______________| \") \n",
    "    elif x == 1:\n",
    "        ph1()\n",
    "    elif x == 2:\n",
    "        ph2()\n",
    "    elif x ==3:\n",
    "        ph3()\n",
    "    elif x ==4:\n",
    "        ph4()\n",
    "    elif x ==5:\n",
    "        ph5()\n",
    "    elif x ==6:\n",
    "        ph6()\n",
    "    elif x == 7:\n",
    "        ph7()\n",
    "    elif x == 8:\n",
    "        ph8()\n",
    "    elif x == 9:\n",
    "        ph9()\n",
    "    elif x == 10:\n",
    "        ph10()\n",
    "    elif x == 11:\n",
    "        ph11()\n",
    "    else:\n",
    "        print(\"\\n _______________  \",\"\\n|               | \",\"\\n|    hmmmm...   | \",\"\\n|       oops!   | \",\"\\n|   how did you | \",\"\\n|     get here? | \",\"\\n|               | \",\"\\n|               | \",\"\\n|               | \",\"\\n|_______________| \")"
   ]
  },
  {
   "cell_type": "code",
   "execution_count": 15,
   "metadata": {},
   "outputs": [
    {
     "name": "stdout",
     "output_type": "stream",
     "text": [
      "\n",
      " _______________   \n",
      "|               |  \n",
      "|    ______     |  \n",
      "|    |   \\|     |  \n",
      "|    o    |     |  \n",
      "|   \\|/   |     |  \n",
      "|   / \\   |     |  \n",
      "|        /_\\    |  \n",
      "|               |  \n",
      "|_______________| \n",
      "\n",
      " \n",
      "nice try! \n",
      "play aigain? \n",
      "\n"
     ]
    }
   ],
   "source": [
    "#test print\n",
    "t = 11\n",
    "hangprint(t)"
   ]
  },
  {
   "cell_type": "code",
   "execution_count": null,
   "metadata": {},
   "outputs": [],
   "source": []
  }
 ],
 "metadata": {
  "kernelspec": {
   "display_name": "Python 3",
   "language": "python",
   "name": "python3"
  },
  "language_info": {
   "codemirror_mode": {
    "name": "ipython",
    "version": 3
   },
   "file_extension": ".py",
   "mimetype": "text/x-python",
   "name": "python",
   "nbconvert_exporter": "python",
   "pygments_lexer": "ipython3",
   "version": "3.8.3"
  }
 },
 "nbformat": 4,
 "nbformat_minor": 4
}
