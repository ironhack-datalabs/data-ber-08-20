{
 "cells": [
  {
   "cell_type": "markdown",
   "metadata": {},
   "source": [
    "# Importing"
   ]
  },
  {
   "cell_type": "code",
   "execution_count": 1,
   "metadata": {},
   "outputs": [],
   "source": [
    "import pandas as pd\n",
    "import numpy as np"
   ]
  },
  {
   "cell_type": "code",
   "execution_count": 2,
   "metadata": {},
   "outputs": [
    {
     "data": {
      "text/html": [
       "<div>\n",
       "<style scoped>\n",
       "    .dataframe tbody tr th:only-of-type {\n",
       "        vertical-align: middle;\n",
       "    }\n",
       "\n",
       "    .dataframe tbody tr th {\n",
       "        vertical-align: top;\n",
       "    }\n",
       "\n",
       "    .dataframe thead th {\n",
       "        text-align: right;\n",
       "    }\n",
       "</style>\n",
       "<table border=\"1\" class=\"dataframe\">\n",
       "  <thead>\n",
       "    <tr style=\"text-align: right;\">\n",
       "      <th></th>\n",
       "      <th>Case Number</th>\n",
       "      <th>Date</th>\n",
       "      <th>Year</th>\n",
       "      <th>Type</th>\n",
       "      <th>Country</th>\n",
       "      <th>Area</th>\n",
       "      <th>Location</th>\n",
       "      <th>Activity</th>\n",
       "      <th>Name</th>\n",
       "      <th>Sex</th>\n",
       "      <th>...</th>\n",
       "      <th>Species</th>\n",
       "      <th>Investigator or Source</th>\n",
       "      <th>pdf</th>\n",
       "      <th>href formula</th>\n",
       "      <th>href</th>\n",
       "      <th>Case Number.1</th>\n",
       "      <th>Case Number.2</th>\n",
       "      <th>original order</th>\n",
       "      <th>Unnamed: 22</th>\n",
       "      <th>Unnamed: 23</th>\n",
       "    </tr>\n",
       "  </thead>\n",
       "  <tbody>\n",
       "    <tr>\n",
       "      <th>0</th>\n",
       "      <td>2016.09.18.c</td>\n",
       "      <td>18-Sep-16</td>\n",
       "      <td>2016</td>\n",
       "      <td>Unprovoked</td>\n",
       "      <td>USA</td>\n",
       "      <td>Florida</td>\n",
       "      <td>New Smyrna Beach, Volusia County</td>\n",
       "      <td>Surfing</td>\n",
       "      <td>male</td>\n",
       "      <td>M</td>\n",
       "      <td>...</td>\n",
       "      <td>NaN</td>\n",
       "      <td>Orlando Sentinel, 9/19/2016</td>\n",
       "      <td>2016.09.18.c-NSB.pdf</td>\n",
       "      <td>http://sharkattackfile.net/spreadsheets/pdf_di...</td>\n",
       "      <td>http://sharkattackfile.net/spreadsheets/pdf_di...</td>\n",
       "      <td>2016.09.18.c</td>\n",
       "      <td>2016.09.18.c</td>\n",
       "      <td>5993.0</td>\n",
       "      <td>NaN</td>\n",
       "      <td>NaN</td>\n",
       "    </tr>\n",
       "  </tbody>\n",
       "</table>\n",
       "<p>1 rows × 24 columns</p>\n",
       "</div>"
      ],
      "text/plain": [
       "    Case Number       Date  Year        Type Country     Area  \\\n",
       "0  2016.09.18.c  18-Sep-16  2016  Unprovoked     USA  Florida   \n",
       "\n",
       "                           Location Activity  Name Sex   ... Species   \\\n",
       "0  New Smyrna Beach, Volusia County  Surfing  male    M  ...      NaN   \n",
       "\n",
       "        Investigator or Source                   pdf  \\\n",
       "0  Orlando Sentinel, 9/19/2016  2016.09.18.c-NSB.pdf   \n",
       "\n",
       "                                        href formula  \\\n",
       "0  http://sharkattackfile.net/spreadsheets/pdf_di...   \n",
       "\n",
       "                                                href Case Number.1  \\\n",
       "0  http://sharkattackfile.net/spreadsheets/pdf_di...  2016.09.18.c   \n",
       "\n",
       "  Case Number.2 original order Unnamed: 22 Unnamed: 23  \n",
       "0  2016.09.18.c         5993.0         NaN         NaN  \n",
       "\n",
       "[1 rows x 24 columns]"
      ]
     },
     "execution_count": 2,
     "metadata": {},
     "output_type": "execute_result"
    }
   ],
   "source": [
    "# - input status 2020-08-21 \n",
    "    # - - local input dataframe \"sharks.csv\" (file: \".../module-1_projects/02_pandas-project/your-code/sharks.csv\")\n",
    "        # - - - original df = alias \"GSAF5.csv\" (source: \"https://www.kaggle.com/teajay/global-shark-attacks/version/1\")            # - - - - \n",
    "   \n",
    " # importing raw data to df \"sharks_raw_200821\"\n",
    "sharks_raw_200821 = pd.read_csv(\"sharks.csv\")\n",
    "\n",
    " # verification\n",
    "sharks_raw_200821.head(1)"
   ]
  },
  {
   "cell_type": "markdown",
   "metadata": {},
   "source": [
    "    \n",
    "        \n",
    "# Input data - inspection, description & preparation\n",
    "\n",
    "   "
   ]
  },
  {
   "cell_type": "code",
   "execution_count": 3,
   "metadata": {},
   "outputs": [
    {
     "data": {
      "text/html": [
       "<div>\n",
       "<style scoped>\n",
       "    .dataframe tbody tr th:only-of-type {\n",
       "        vertical-align: middle;\n",
       "    }\n",
       "\n",
       "    .dataframe tbody tr th {\n",
       "        vertical-align: top;\n",
       "    }\n",
       "\n",
       "    .dataframe thead th {\n",
       "        text-align: right;\n",
       "    }\n",
       "</style>\n",
       "<table border=\"1\" class=\"dataframe\">\n",
       "  <thead>\n",
       "    <tr style=\"text-align: right;\">\n",
       "      <th></th>\n",
       "      <th>Case Number</th>\n",
       "      <th>Date</th>\n",
       "      <th>Year</th>\n",
       "      <th>Type</th>\n",
       "      <th>Country</th>\n",
       "      <th>Area</th>\n",
       "      <th>Location</th>\n",
       "      <th>Activity</th>\n",
       "      <th>Name</th>\n",
       "      <th>Sex</th>\n",
       "      <th>...</th>\n",
       "      <th>Species</th>\n",
       "      <th>Investigator or Source</th>\n",
       "      <th>pdf</th>\n",
       "      <th>href formula</th>\n",
       "      <th>href</th>\n",
       "      <th>Case Number.1</th>\n",
       "      <th>Case Number.2</th>\n",
       "      <th>original order</th>\n",
       "      <th>Unnamed: 22</th>\n",
       "      <th>Unnamed: 23</th>\n",
       "    </tr>\n",
       "  </thead>\n",
       "  <tbody>\n",
       "    <tr>\n",
       "      <th>0</th>\n",
       "      <td>2016.09.18.c</td>\n",
       "      <td>18-Sep-16</td>\n",
       "      <td>2016</td>\n",
       "      <td>Unprovoked</td>\n",
       "      <td>USA</td>\n",
       "      <td>Florida</td>\n",
       "      <td>New Smyrna Beach, Volusia County</td>\n",
       "      <td>Surfing</td>\n",
       "      <td>male</td>\n",
       "      <td>M</td>\n",
       "      <td>...</td>\n",
       "      <td>NaN</td>\n",
       "      <td>Orlando Sentinel, 9/19/2016</td>\n",
       "      <td>2016.09.18.c-NSB.pdf</td>\n",
       "      <td>http://sharkattackfile.net/spreadsheets/pdf_di...</td>\n",
       "      <td>http://sharkattackfile.net/spreadsheets/pdf_di...</td>\n",
       "      <td>2016.09.18.c</td>\n",
       "      <td>2016.09.18.c</td>\n",
       "      <td>5993.0</td>\n",
       "      <td>NaN</td>\n",
       "      <td>NaN</td>\n",
       "    </tr>\n",
       "  </tbody>\n",
       "</table>\n",
       "<p>1 rows × 24 columns</p>\n",
       "</div>"
      ],
      "text/plain": [
       "    Case Number       Date  Year        Type Country     Area  \\\n",
       "0  2016.09.18.c  18-Sep-16  2016  Unprovoked     USA  Florida   \n",
       "\n",
       "                           Location Activity  Name Sex   ... Species   \\\n",
       "0  New Smyrna Beach, Volusia County  Surfing  male    M  ...      NaN   \n",
       "\n",
       "        Investigator or Source                   pdf  \\\n",
       "0  Orlando Sentinel, 9/19/2016  2016.09.18.c-NSB.pdf   \n",
       "\n",
       "                                        href formula  \\\n",
       "0  http://sharkattackfile.net/spreadsheets/pdf_di...   \n",
       "\n",
       "                                                href Case Number.1  \\\n",
       "0  http://sharkattackfile.net/spreadsheets/pdf_di...  2016.09.18.c   \n",
       "\n",
       "  Case Number.2 original order Unnamed: 22 Unnamed: 23  \n",
       "0  2016.09.18.c         5993.0         NaN         NaN  \n",
       "\n",
       "[1 rows x 24 columns]"
      ]
     },
     "execution_count": 3,
     "metadata": {},
     "output_type": "execute_result"
    }
   ],
   "source": [
    "    # copy sharks_raw_200821 to working version = \n",
    "    # w(orking)df\n",
    "wdf = sharks_raw_200821.copy()\n",
    "\n",
    "    # Verification\n",
    "wdf.head(1)"
   ]
  },
  {
   "cell_type": "markdown",
   "metadata": {},
   "source": [
    "### Brief Overview: Input Data"
   ]
  },
  {
   "cell_type": "code",
   "execution_count": 4,
   "metadata": {},
   "outputs": [
    {
     "data": {
      "text/plain": [
       "5992"
      ]
     },
     "execution_count": 4,
     "metadata": {},
     "output_type": "execute_result"
    }
   ],
   "source": [
    "# num of rows\n",
    "len(wdf)"
   ]
  },
  {
   "cell_type": "code",
   "execution_count": 5,
   "metadata": {},
   "outputs": [
    {
     "data": {
      "text/plain": [
       "24"
      ]
     },
     "execution_count": 5,
     "metadata": {},
     "output_type": "execute_result"
    }
   ],
   "source": [
    "# num of cols\n",
    "len(wdf.columns)"
   ]
  },
  {
   "cell_type": "code",
   "execution_count": 6,
   "metadata": {},
   "outputs": [
    {
     "data": {
      "text/plain": [
       "Index(['Case Number', 'Date', 'Year', 'Type', 'Country', 'Area', 'Location',\n",
       "       'Activity', 'Name', 'Sex ', 'Age', 'Injury', 'Fatal (Y/N)', 'Time',\n",
       "       'Species ', 'Investigator or Source', 'pdf', 'href formula', 'href',\n",
       "       'Case Number.1', 'Case Number.2', 'original order', 'Unnamed: 22',\n",
       "       'Unnamed: 23'],\n",
       "      dtype='object')"
      ]
     },
     "execution_count": 6,
     "metadata": {},
     "output_type": "execute_result"
    }
   ],
   "source": [
    "# review col names\n",
    "wdf.columns"
   ]
  },
  {
   "cell_type": "code",
   "execution_count": 7,
   "metadata": {},
   "outputs": [
    {
     "data": {
      "text/plain": [
       "Case Number                object\n",
       "Date                       object\n",
       "Year                        int64\n",
       "Type                       object\n",
       "Country                    object\n",
       "Area                       object\n",
       "Location                   object\n",
       "Activity                   object\n",
       "Name                       object\n",
       "Sex                        object\n",
       "Age                        object\n",
       "Injury                     object\n",
       "Fatal (Y/N)                object\n",
       "Time                       object\n",
       "Species                    object\n",
       "Investigator or Source     object\n",
       "pdf                        object\n",
       "href formula               object\n",
       "href                       object\n",
       "Case Number.1              object\n",
       "Case Number.2              object\n",
       "original order            float64\n",
       "Unnamed: 22                object\n",
       "Unnamed: 23                object\n",
       "dtype: object"
      ]
     },
     "execution_count": 7,
     "metadata": {},
     "output_type": "execute_result"
    }
   ],
   "source": [
    "# review dtypes\n",
    "wdf.dtypes\n",
    "    # result shows:\n",
    "        # - only cols 'year' and 'original order' numeric format\n",
    "        # - cols 'time' and 'date' -> data not yet in datetime format\n",
    "        # - col 'age' -> data not yet in int fomat\n",
    "    # conclusion:\n",
    "        # - cols 'time', 'date', 'age' : change dtypes ...\n",
    "        #   ... provided following review of na-sums indicates they contain enough info to be processed             "
   ]
  },
  {
   "cell_type": "code",
   "execution_count": 8,
   "metadata": {},
   "outputs": [
    {
     "name": "stdout",
     "output_type": "stream",
     "text": [
      "<class 'pandas.core.frame.DataFrame'>\n",
      "RangeIndex: 5992 entries, 0 to 5991\n",
      "Data columns (total 24 columns):\n",
      " #   Column                  Non-Null Count  Dtype  \n",
      "---  ------                  --------------  -----  \n",
      " 0   Case Number             5992 non-null   object \n",
      " 1   Date                    5992 non-null   object \n",
      " 2   Year                    5992 non-null   int64  \n",
      " 3   Type                    5992 non-null   object \n",
      " 4   Country                 5949 non-null   object \n",
      " 5   Area                    5590 non-null   object \n",
      " 6   Location                5496 non-null   object \n",
      " 7   Activity                5465 non-null   object \n",
      " 8   Name                    5791 non-null   object \n",
      " 9   Sex                     5423 non-null   object \n",
      " 10  Age                     3314 non-null   object \n",
      " 11  Injury                  5965 non-null   object \n",
      " 12  Fatal (Y/N)             5972 non-null   object \n",
      " 13  Time                    2777 non-null   object \n",
      " 14  Species                 3061 non-null   object \n",
      " 15  Investigator or Source  5977 non-null   object \n",
      " 16  pdf                     5992 non-null   object \n",
      " 17  href formula            5991 non-null   object \n",
      " 18  href                    5989 non-null   object \n",
      " 19  Case Number.1           5992 non-null   object \n",
      " 20  Case Number.2           5992 non-null   object \n",
      " 21  original order          5985 non-null   float64\n",
      " 22  Unnamed: 22             1 non-null      object \n",
      " 23  Unnamed: 23             2 non-null      object \n",
      "dtypes: float64(1), int64(1), object(22)\n",
      "memory usage: 1.1+ MB\n"
     ]
    }
   ],
   "source": [
    "#closer look including non-null\n",
    "wdf.info()"
   ]
  },
  {
   "cell_type": "markdown",
   "metadata": {},
   "source": [
    "# Data Cleaning and Manipulation"
   ]
  },
  {
   "cell_type": "markdown",
   "metadata": {},
   "source": [
    "\n",
    "#### Inspection, evaluation and handling of ambigous columns\n",
    "\n",
    "content evaluation & interpretation, repetitive data compression, col aggragation, notes for further categorization & reformating\n",
    "\n",
    "   Ambiguous column names:\n",
    "       \n",
    "      1.)  'Case Number.1'  \n",
    "      2.)  'Case Number.2'\n",
    "      3.)  'original order'\n",
    "      4.)  'Unnamed22'\n",
    "      5.)  'Unnamed23'\n",
    "      6.)  'href formula'\n",
    "      7.)  'pdf'\n",
    "      8.)  'href'\n",
    "     \n",
    "#### Inspection, evaluation and handling of missing values\n",
    "\n",
    "      9.)   inspection of na-vals sum of na-vals per category\n",
    "     10.)   interpretation / evaluation of relevance of missing data\n",
    "     11.)   nafill / nadrop decisions & processing\n",
    "    "
   ]
  },
  {
   "cell_type": "code",
   "execution_count": 9,
   "metadata": {},
   "outputs": [
    {
     "data": {
      "text/plain": [
       "1990.05.10      2\n",
       "1983.06.15      2\n",
       "2012.09.02.b    2\n",
       "1920.00.00.b    2\n",
       "1966.12.26      2\n",
       "               ..\n",
       "1867.00.00      1\n",
       "1919.01.05      1\n",
       "1887.03.12      1\n",
       "1952.05.00      1\n",
       "2008.10.12      1\n",
       "Name: Case Number.1, Length: 5975, dtype: int64"
      ]
     },
     "execution_count": 9,
     "metadata": {},
     "output_type": "execute_result"
    }
   ],
   "source": [
    "# what does col 'Case Number.1' contain?\n",
    "wdf['Case Number.1'].value_counts()\n",
    "\n",
    "     # deduction: no exploitable information for further analysis in this col\n",
    "          # conclusion: drop col"
   ]
  },
  {
   "cell_type": "code",
   "execution_count": 10,
   "metadata": {},
   "outputs": [
    {
     "data": {
      "text/plain": [
       "1990.05.10      2\n",
       "1983.06.15      2\n",
       "2012.09.02.b    2\n",
       "1920.00.00.b    2\n",
       "1966.12.26      2\n",
       "               ..\n",
       "1952.05.00      1\n",
       "1932.10.11      1\n",
       "2012.03.20      1\n",
       "2006.03.19      1\n",
       "2008.10.12      1\n",
       "Name: Case Number.2, Length: 5976, dtype: int64"
      ]
     },
     "execution_count": 10,
     "metadata": {},
     "output_type": "execute_result"
    }
   ],
   "source": [
    "# what does col 'Case Number.2' contain?\n",
    "wdf['Case Number.2'].value_counts()\n",
    "\n",
    "    # deduction: no exploitable information for further analysis in this col   \n",
    "        # conclusion: drop col"
   ]
  },
  {
   "cell_type": "code",
   "execution_count": 11,
   "metadata": {},
   "outputs": [
    {
     "data": {
      "text/html": [
       "<div>\n",
       "<style scoped>\n",
       "    .dataframe tbody tr th:only-of-type {\n",
       "        vertical-align: middle;\n",
       "    }\n",
       "\n",
       "    .dataframe tbody tr th {\n",
       "        vertical-align: top;\n",
       "    }\n",
       "\n",
       "    .dataframe thead th {\n",
       "        text-align: right;\n",
       "    }\n",
       "</style>\n",
       "<table border=\"1\" class=\"dataframe\">\n",
       "  <thead>\n",
       "    <tr style=\"text-align: right;\">\n",
       "      <th></th>\n",
       "      <th>Case Number</th>\n",
       "      <th>Date</th>\n",
       "      <th>Year</th>\n",
       "      <th>Type</th>\n",
       "      <th>Country</th>\n",
       "      <th>Area</th>\n",
       "      <th>Location</th>\n",
       "      <th>Activity</th>\n",
       "      <th>Name</th>\n",
       "      <th>Sex</th>\n",
       "      <th>...</th>\n",
       "      <th>Fatal (Y/N)</th>\n",
       "      <th>Time</th>\n",
       "      <th>Species</th>\n",
       "      <th>Investigator or Source</th>\n",
       "      <th>pdf</th>\n",
       "      <th>href formula</th>\n",
       "      <th>href</th>\n",
       "      <th>original order</th>\n",
       "      <th>Unnamed: 22</th>\n",
       "      <th>Unnamed: 23</th>\n",
       "    </tr>\n",
       "  </thead>\n",
       "  <tbody>\n",
       "    <tr>\n",
       "      <th>0</th>\n",
       "      <td>2016.09.18.c</td>\n",
       "      <td>18-Sep-16</td>\n",
       "      <td>2016</td>\n",
       "      <td>Unprovoked</td>\n",
       "      <td>USA</td>\n",
       "      <td>Florida</td>\n",
       "      <td>New Smyrna Beach, Volusia County</td>\n",
       "      <td>Surfing</td>\n",
       "      <td>male</td>\n",
       "      <td>M</td>\n",
       "      <td>...</td>\n",
       "      <td>N</td>\n",
       "      <td>13h00</td>\n",
       "      <td>NaN</td>\n",
       "      <td>Orlando Sentinel, 9/19/2016</td>\n",
       "      <td>2016.09.18.c-NSB.pdf</td>\n",
       "      <td>http://sharkattackfile.net/spreadsheets/pdf_di...</td>\n",
       "      <td>http://sharkattackfile.net/spreadsheets/pdf_di...</td>\n",
       "      <td>5993.0</td>\n",
       "      <td>NaN</td>\n",
       "      <td>NaN</td>\n",
       "    </tr>\n",
       "  </tbody>\n",
       "</table>\n",
       "<p>1 rows × 22 columns</p>\n",
       "</div>"
      ],
      "text/plain": [
       "    Case Number       Date  Year        Type Country     Area  \\\n",
       "0  2016.09.18.c  18-Sep-16  2016  Unprovoked     USA  Florida   \n",
       "\n",
       "                           Location Activity  Name Sex   ... Fatal (Y/N)  \\\n",
       "0  New Smyrna Beach, Volusia County  Surfing  male    M  ...           N   \n",
       "\n",
       "    Time Species        Investigator or Source                   pdf  \\\n",
       "0  13h00      NaN  Orlando Sentinel, 9/19/2016  2016.09.18.c-NSB.pdf   \n",
       "\n",
       "                                        href formula  \\\n",
       "0  http://sharkattackfile.net/spreadsheets/pdf_di...   \n",
       "\n",
       "                                                href original order  \\\n",
       "0  http://sharkattackfile.net/spreadsheets/pdf_di...         5993.0   \n",
       "\n",
       "  Unnamed: 22  Unnamed: 23  \n",
       "0         NaN          NaN  \n",
       "\n",
       "[1 rows x 22 columns]"
      ]
     },
     "execution_count": 11,
     "metadata": {},
     "output_type": "execute_result"
    }
   ],
   "source": [
    "# drop ['Case Number.1','Case Number.2'] & update wdf\n",
    "wdf = wdf.drop(columns=['Case Number.1','Case Number.2'])\n",
    "\n",
    "#verification\n",
    "wdf.head(1)"
   ]
  },
  {
   "cell_type": "code",
   "execution_count": 12,
   "metadata": {},
   "outputs": [
    {
     "data": {
      "text/plain": [
       "5661.0    2\n",
       "5739.0    2\n",
       "3847.0    2\n",
       "569.0     2\n",
       "3297.0    1\n",
       "         ..\n",
       "2684.0    1\n",
       "2456.0    1\n",
       "2279.0    1\n",
       "5449.0    1\n",
       "5952.0    1\n",
       "Name: original order, Length: 5981, dtype: int64"
      ]
     },
     "execution_count": 12,
     "metadata": {},
     "output_type": "execute_result"
    }
   ],
   "source": [
    "# what is in 'original order'?\n",
    "    # col name could suggest former index numbers -> checking num of uniques:\n",
    "wdf['original order'].value_counts()\n",
    "        # -> if former index num -> not valid     "
   ]
  },
  {
   "cell_type": "code",
   "execution_count": 13,
   "metadata": {},
   "outputs": [
    {
     "data": {
      "text/html": [
       "<div>\n",
       "<style scoped>\n",
       "    .dataframe tbody tr th:only-of-type {\n",
       "        vertical-align: middle;\n",
       "    }\n",
       "\n",
       "    .dataframe tbody tr th {\n",
       "        vertical-align: top;\n",
       "    }\n",
       "\n",
       "    .dataframe thead th {\n",
       "        text-align: right;\n",
       "    }\n",
       "</style>\n",
       "<table border=\"1\" class=\"dataframe\">\n",
       "  <thead>\n",
       "    <tr style=\"text-align: right;\">\n",
       "      <th></th>\n",
       "      <th>Case Number</th>\n",
       "      <th>Date</th>\n",
       "      <th>Year</th>\n",
       "      <th>Type</th>\n",
       "      <th>Country</th>\n",
       "      <th>Area</th>\n",
       "      <th>Location</th>\n",
       "      <th>Activity</th>\n",
       "      <th>Name</th>\n",
       "      <th>Sex</th>\n",
       "      <th>...</th>\n",
       "      <th>Injury</th>\n",
       "      <th>Fatal (Y/N)</th>\n",
       "      <th>Time</th>\n",
       "      <th>Species</th>\n",
       "      <th>Investigator or Source</th>\n",
       "      <th>pdf</th>\n",
       "      <th>href formula</th>\n",
       "      <th>href</th>\n",
       "      <th>Unnamed: 22</th>\n",
       "      <th>Unnamed: 23</th>\n",
       "    </tr>\n",
       "  </thead>\n",
       "  <tbody>\n",
       "    <tr>\n",
       "      <th>0</th>\n",
       "      <td>2016.09.18.c</td>\n",
       "      <td>18-Sep-16</td>\n",
       "      <td>2016</td>\n",
       "      <td>Unprovoked</td>\n",
       "      <td>USA</td>\n",
       "      <td>Florida</td>\n",
       "      <td>New Smyrna Beach, Volusia County</td>\n",
       "      <td>Surfing</td>\n",
       "      <td>male</td>\n",
       "      <td>M</td>\n",
       "      <td>...</td>\n",
       "      <td>Minor injury to thigh</td>\n",
       "      <td>N</td>\n",
       "      <td>13h00</td>\n",
       "      <td>NaN</td>\n",
       "      <td>Orlando Sentinel, 9/19/2016</td>\n",
       "      <td>2016.09.18.c-NSB.pdf</td>\n",
       "      <td>http://sharkattackfile.net/spreadsheets/pdf_di...</td>\n",
       "      <td>http://sharkattackfile.net/spreadsheets/pdf_di...</td>\n",
       "      <td>NaN</td>\n",
       "      <td>NaN</td>\n",
       "    </tr>\n",
       "  </tbody>\n",
       "</table>\n",
       "<p>1 rows × 21 columns</p>\n",
       "</div>"
      ],
      "text/plain": [
       "    Case Number       Date  Year        Type Country     Area  \\\n",
       "0  2016.09.18.c  18-Sep-16  2016  Unprovoked     USA  Florida   \n",
       "\n",
       "                           Location Activity  Name Sex   ...  \\\n",
       "0  New Smyrna Beach, Volusia County  Surfing  male    M  ...   \n",
       "\n",
       "                  Injury Fatal (Y/N)   Time Species   \\\n",
       "0  Minor injury to thigh           N  13h00      NaN   \n",
       "\n",
       "        Investigator or Source                   pdf  \\\n",
       "0  Orlando Sentinel, 9/19/2016  2016.09.18.c-NSB.pdf   \n",
       "\n",
       "                                        href formula  \\\n",
       "0  http://sharkattackfile.net/spreadsheets/pdf_di...   \n",
       "\n",
       "                                                href Unnamed: 22 Unnamed: 23  \n",
       "0  http://sharkattackfile.net/spreadsheets/pdf_di...         NaN         NaN  \n",
       "\n",
       "[1 rows x 21 columns]"
      ]
     },
     "execution_count": 13,
     "metadata": {},
     "output_type": "execute_result"
    }
   ],
   "source": [
    "# deduction: \n",
    "    # infos in 'original order' are not conclusive\n",
    "    # values seem to invalid if they come from former df index\n",
    "   \n",
    "        # conclusion: \n",
    "            # information value not sufficient for futher analysis\n",
    "            # drop ['original order'] & update wdf\n",
    "            \n",
    "wdf = wdf.drop(columns=['original order'])\n",
    "\n",
    "# verification\n",
    "wdf.head(1)"
   ]
  },
  {
   "cell_type": "code",
   "execution_count": 14,
   "metadata": {},
   "outputs": [
    {
     "data": {
      "text/plain": [
       "stopped here    1\n",
       "Name: Unnamed: 22, dtype: int64"
      ]
     },
     "execution_count": 14,
     "metadata": {},
     "output_type": "execute_result"
    }
   ],
   "source": [
    "# what is in col 'Unnamed: 22' ?\n",
    "wdf['Unnamed: 22'].value_counts()\n",
    "    \n",
    "        # deduction: no exploitable information for further analysis in this col\n",
    "            # conclusion: drop col 'Unnamed: 22' "
   ]
  },
  {
   "cell_type": "code",
   "execution_count": 15,
   "metadata": {},
   "outputs": [
    {
     "data": {
      "text/plain": [
       "Teramo             1\n",
       "change filename    1\n",
       "Name: Unnamed: 23, dtype: int64"
      ]
     },
     "execution_count": 15,
     "metadata": {},
     "output_type": "execute_result"
    }
   ],
   "source": [
    "# what is in col 'Unnamed: 23' ?\n",
    "wdf['Unnamed: 23'].value_counts()\n",
    "    \n",
    "        # deduction: no exploitable information for further analysis in this col\n",
    "            # conclusion: drop col 'Unnamed: 23' "
   ]
  },
  {
   "cell_type": "code",
   "execution_count": 16,
   "metadata": {},
   "outputs": [
    {
     "data": {
      "text/html": [
       "<div>\n",
       "<style scoped>\n",
       "    .dataframe tbody tr th:only-of-type {\n",
       "        vertical-align: middle;\n",
       "    }\n",
       "\n",
       "    .dataframe tbody tr th {\n",
       "        vertical-align: top;\n",
       "    }\n",
       "\n",
       "    .dataframe thead th {\n",
       "        text-align: right;\n",
       "    }\n",
       "</style>\n",
       "<table border=\"1\" class=\"dataframe\">\n",
       "  <thead>\n",
       "    <tr style=\"text-align: right;\">\n",
       "      <th></th>\n",
       "      <th>Case Number</th>\n",
       "      <th>Date</th>\n",
       "      <th>Year</th>\n",
       "      <th>Type</th>\n",
       "      <th>Country</th>\n",
       "      <th>Area</th>\n",
       "      <th>Location</th>\n",
       "      <th>Activity</th>\n",
       "      <th>Name</th>\n",
       "      <th>Sex</th>\n",
       "      <th>Age</th>\n",
       "      <th>Injury</th>\n",
       "      <th>Fatal (Y/N)</th>\n",
       "      <th>Time</th>\n",
       "      <th>Species</th>\n",
       "      <th>Investigator or Source</th>\n",
       "      <th>pdf</th>\n",
       "      <th>href formula</th>\n",
       "      <th>href</th>\n",
       "    </tr>\n",
       "  </thead>\n",
       "  <tbody>\n",
       "    <tr>\n",
       "      <th>0</th>\n",
       "      <td>2016.09.18.c</td>\n",
       "      <td>18-Sep-16</td>\n",
       "      <td>2016</td>\n",
       "      <td>Unprovoked</td>\n",
       "      <td>USA</td>\n",
       "      <td>Florida</td>\n",
       "      <td>New Smyrna Beach, Volusia County</td>\n",
       "      <td>Surfing</td>\n",
       "      <td>male</td>\n",
       "      <td>M</td>\n",
       "      <td>16</td>\n",
       "      <td>Minor injury to thigh</td>\n",
       "      <td>N</td>\n",
       "      <td>13h00</td>\n",
       "      <td>NaN</td>\n",
       "      <td>Orlando Sentinel, 9/19/2016</td>\n",
       "      <td>2016.09.18.c-NSB.pdf</td>\n",
       "      <td>http://sharkattackfile.net/spreadsheets/pdf_di...</td>\n",
       "      <td>http://sharkattackfile.net/spreadsheets/pdf_di...</td>\n",
       "    </tr>\n",
       "  </tbody>\n",
       "</table>\n",
       "</div>"
      ],
      "text/plain": [
       "    Case Number       Date  Year        Type Country     Area  \\\n",
       "0  2016.09.18.c  18-Sep-16  2016  Unprovoked     USA  Florida   \n",
       "\n",
       "                           Location Activity  Name Sex  Age  \\\n",
       "0  New Smyrna Beach, Volusia County  Surfing  male    M  16   \n",
       "\n",
       "                  Injury Fatal (Y/N)   Time Species   \\\n",
       "0  Minor injury to thigh           N  13h00      NaN   \n",
       "\n",
       "        Investigator or Source                   pdf  \\\n",
       "0  Orlando Sentinel, 9/19/2016  2016.09.18.c-NSB.pdf   \n",
       "\n",
       "                                        href formula  \\\n",
       "0  http://sharkattackfile.net/spreadsheets/pdf_di...   \n",
       "\n",
       "                                                href  \n",
       "0  http://sharkattackfile.net/spreadsheets/pdf_di...  "
      ]
     },
     "execution_count": 16,
     "metadata": {},
     "output_type": "execute_result"
    }
   ],
   "source": [
    "# drop ['Unnamed: 22','Unnamed: 23'] & update wdf\n",
    "wdf = wdf.drop(columns=['Unnamed: 22','Unnamed: 23'])\n",
    "\n",
    "# verification\n",
    "wdf.head(1)"
   ]
  },
  {
   "cell_type": "code",
   "execution_count": 17,
   "metadata": {},
   "outputs": [
    {
     "data": {
      "text/plain": [
       "http://sharkattackfile.net/spreadsheets/pdf_directory/1906.09.27.R.a&b-Munich-Swede.pdf    2\n",
       "http://sharkattackfile.net/spreadsheets/pdf_directory/1921.11.27.a-b-Jack.pdf              2\n",
       "http://sharkattackfile.net/spreadsheets/pdf_directory/1935.06.05.R-SolomonIslands.pdf      2\n",
       "http://sharkattackfile.net/spreadsheets/pdf_directory/1907.10.16.R-HongKong.pdf            2\n",
       "http://sharkattackfile.net/spreadsheets/pdf_directory/1934.12.23.a-b-Inman.pdf             2\n",
       "                                                                                          ..\n",
       "http://sharkattackfile.net/spreadsheets/pdf_directory/1947.06.27-Limatoc.pdf               1\n",
       "http://sharkattackfile.net/spreadsheets/pdf_directory/1906.04.10.R.a-b-Baxter.pdf          1\n",
       "http://sharkattackfile.net/spreadsheets/pdf_directory/1865.03.01.R-St-HelenaBay.pdf        1\n",
       "http://sharkattackfile.net/spreadsheets/pdf_directory/2009.05.12-Guerrero.pdf              1\n",
       "http://sharkattackfile.net/spreadsheets/pdf_directory/1995.08.07-MattSturgis.pdf           1\n",
       "Name: href formula, Length: 5980, dtype: int64"
      ]
     },
     "execution_count": 17,
     "metadata": {},
     "output_type": "execute_result"
    }
   ],
   "source": [
    "# what is in col 'href formula' ?\n",
    "wdf['href formula'].value_counts()\n",
    "\n",
    "# deductions:\n",
    "    # -- col contains unknown urls   \n",
    "    # -- some of those urls are in two rows \n",
    "        # further research: try one of the urls appearing in two rows:    \n",
    "            # ...investigating \"http://sharkattackfile.net/spreadsheets/pdf_directory/1916.12.08.a-b-German.pdf\"\n",
    "                # ...summary: pdf with case description for \n",
    "                        #                                 -  \"Mr. and Mrs. Walter German\" \n",
    "                        #                                 -  \"CASE: GSAF 1916.12.08.a & b\"\n",
    "                        #                                 -  \"DATE: Friday December 8, 1916\"\n",
    "        \n",
    "# conclusions: \n",
    "    #           =>>    url twice in df because case-type = two-person-case\n",
    "        #                =>       num of rows with the same val == num of involved persons\n",
    "        #                =>       vals in \"Case Number\" == date + alphabetical index for person ( if > 1 person)\n",
    "    \n",
    "    #           =>>   url string contains pdf string\n",
    "        #                =>       drop pdf string because pdf-content is not object of further analysis\n",
    "\n",
    "#\n",
    "#######################################################################################################################\n",
    "# notes:\n",
    "# .... concerned rows for multiple person cases can be reached via common case-num\n",
    "#\n",
    "#######################################################################################################################"
   ]
  },
  {
   "cell_type": "code",
   "execution_count": 18,
   "metadata": {},
   "outputs": [],
   "source": [
    "# drop col pdf & update wdf\n",
    "wdf = wdf.drop(columns='pdf')"
   ]
  },
  {
   "cell_type": "code",
   "execution_count": 19,
   "metadata": {},
   "outputs": [
    {
     "data": {
      "text/plain": [
       "http://sharkattackfile.net/spreadsheets/pdf_directory/w014.01.25-Grant.pdf                   4\n",
       "http://sharkattackfile.net/spreadsheets/pdf_directory/2014.10.02.b-Vandenberg.pdf            3\n",
       "http://sharkattackfile.net/spreadsheets/pdf_directory/1898.00.00.R-Syria.pdf                 2\n",
       "http://sharkattackfile.net/spreadsheets/pdf_directory/1916.07.12.a-b-Stillwell-Fisher.pdf    2\n",
       "http://sharkattackfile.net/spreadsheets/pdf_directory/1923.00.00.a-NJ fisherman.pdf          2\n",
       "                                                                                            ..\n",
       "http://sharkattackfile.net/spreadsheets/pdf_directory/1839.11.17-Johnson.pdf                 1\n",
       "http://sharkattackfile.net/spreadsheets/pdf_directory/1749.00.00-Watson.pdf                  1\n",
       "http://sharkattackfile.net/spreadsheets/pdf_directory/2010.10.25-Gedi-crewman.pdf            1\n",
       "http://sharkattackfile.net/spreadsheets/pdf_directory/1924.02.13-Derritt.pdf                 1\n",
       "http://sharkattackfile.net/spreadsheets/pdf_directory/1995.08.07-MattSturgis.pdf             1\n",
       "Name: href, Length: 5972, dtype: int64"
      ]
     },
     "execution_count": 19,
     "metadata": {},
     "output_type": "execute_result"
    }
   ],
   "source": [
    "# what is in col 'href'?\n",
    "wdf['href'].value_counts()\n",
    "\n",
    "    # deduction: contains the urls already found in 'href formula'    \n",
    "            # conclusion: \n",
    "                    # href formula, Length: 5980\n",
    "                    # href, Length: 5972\n",
    "                             # => difference not statistically relevant for further analysis                    \n",
    "            # => drop href  <<   because href > href formula                     \n",
    "            # => keep href formular in the first instance \n",
    "                 #          <<   because it may contain relevant infos to fill possible na-vals in other cols\n",
    "\n",
    "#\n",
    "#######################################################################################################################\n",
    "# notes:\n",
    "# .... not all urls are valid - quick check showed: typos or other mistakes in some urls (reaching 404 pages)\n",
    "#\n",
    "#######################################################################################################################"
   ]
  },
  {
   "cell_type": "code",
   "execution_count": 20,
   "metadata": {},
   "outputs": [
    {
     "data": {
      "text/html": [
       "<div>\n",
       "<style scoped>\n",
       "    .dataframe tbody tr th:only-of-type {\n",
       "        vertical-align: middle;\n",
       "    }\n",
       "\n",
       "    .dataframe tbody tr th {\n",
       "        vertical-align: top;\n",
       "    }\n",
       "\n",
       "    .dataframe thead th {\n",
       "        text-align: right;\n",
       "    }\n",
       "</style>\n",
       "<table border=\"1\" class=\"dataframe\">\n",
       "  <thead>\n",
       "    <tr style=\"text-align: right;\">\n",
       "      <th></th>\n",
       "      <th>Case Number</th>\n",
       "      <th>Date</th>\n",
       "      <th>Year</th>\n",
       "      <th>Type</th>\n",
       "      <th>Country</th>\n",
       "      <th>Area</th>\n",
       "      <th>Location</th>\n",
       "      <th>Activity</th>\n",
       "      <th>Name</th>\n",
       "      <th>Sex</th>\n",
       "      <th>Age</th>\n",
       "      <th>Injury</th>\n",
       "      <th>Fatal (Y/N)</th>\n",
       "      <th>Time</th>\n",
       "      <th>Species</th>\n",
       "      <th>Investigator or Source</th>\n",
       "      <th>href formula</th>\n",
       "    </tr>\n",
       "  </thead>\n",
       "  <tbody>\n",
       "    <tr>\n",
       "      <th>0</th>\n",
       "      <td>2016.09.18.c</td>\n",
       "      <td>18-Sep-16</td>\n",
       "      <td>2016</td>\n",
       "      <td>Unprovoked</td>\n",
       "      <td>USA</td>\n",
       "      <td>Florida</td>\n",
       "      <td>New Smyrna Beach, Volusia County</td>\n",
       "      <td>Surfing</td>\n",
       "      <td>male</td>\n",
       "      <td>M</td>\n",
       "      <td>16</td>\n",
       "      <td>Minor injury to thigh</td>\n",
       "      <td>N</td>\n",
       "      <td>13h00</td>\n",
       "      <td>NaN</td>\n",
       "      <td>Orlando Sentinel, 9/19/2016</td>\n",
       "      <td>http://sharkattackfile.net/spreadsheets/pdf_di...</td>\n",
       "    </tr>\n",
       "  </tbody>\n",
       "</table>\n",
       "</div>"
      ],
      "text/plain": [
       "    Case Number       Date  Year        Type Country     Area  \\\n",
       "0  2016.09.18.c  18-Sep-16  2016  Unprovoked     USA  Florida   \n",
       "\n",
       "                           Location Activity  Name Sex  Age  \\\n",
       "0  New Smyrna Beach, Volusia County  Surfing  male    M  16   \n",
       "\n",
       "                  Injury Fatal (Y/N)   Time Species   \\\n",
       "0  Minor injury to thigh           N  13h00      NaN   \n",
       "\n",
       "        Investigator or Source  \\\n",
       "0  Orlando Sentinel, 9/19/2016   \n",
       "\n",
       "                                        href formula  \n",
       "0  http://sharkattackfile.net/spreadsheets/pdf_di...  "
      ]
     },
     "execution_count": 20,
     "metadata": {},
     "output_type": "execute_result"
    }
   ],
   "source": [
    "#drop href and verify update\n",
    "wdf = wdf.drop(columns='href')\n",
    "wdf.head(1)"
   ]
  },
  {
   "cell_type": "markdown",
   "metadata": {},
   "source": [
    "# NA Values"
   ]
  },
  {
   "cell_type": "code",
   "execution_count": 21,
   "metadata": {},
   "outputs": [
    {
     "data": {
      "text/plain": [
       "Case Number                  0\n",
       "Date                         0\n",
       "Year                         0\n",
       "Type                         0\n",
       "Country                     43\n",
       "Area                       402\n",
       "Location                   496\n",
       "Activity                   527\n",
       "Name                       201\n",
       "Sex                        569\n",
       "Age                       2678\n",
       "Injury                      27\n",
       "Fatal (Y/N)                 20\n",
       "Time                      3215\n",
       "Species                   2931\n",
       "Investigator or Source      15\n",
       "href formula                 1\n",
       "dtype: int64"
      ]
     },
     "execution_count": 21,
     "metadata": {},
     "output_type": "execute_result"
    }
   ],
   "source": [
    "# overview of na-vals, navals to store them\n",
    "navals = wdf.isna().sum()\n",
    "navals"
   ]
  },
  {
   "cell_type": "code",
   "execution_count": 22,
   "metadata": {},
   "outputs": [
    {
     "data": {
      "text/plain": [
       "Country                     43\n",
       "Area                       402\n",
       "Location                   496\n",
       "Activity                   527\n",
       "Name                       201\n",
       "Sex                        569\n",
       "Age                       2678\n",
       "Injury                      27\n",
       "Fatal (Y/N)                 20\n",
       "Time                      3215\n",
       "Species                   2931\n",
       "Investigator or Source      15\n",
       "href formula                 1\n",
       "dtype: int64"
      ]
     },
     "execution_count": 22,
     "metadata": {},
     "output_type": "execute_result"
    }
   ],
   "source": [
    "# ignore cols without na-vals\n",
    "navals.loc[navals.gt(0)]"
   ]
  },
  {
   "cell_type": "code",
   "execution_count": 23,
   "metadata": {},
   "outputs": [
    {
     "data": {
      "text/plain": [
       "Country                   False\n",
       "Area                      False\n",
       "Location                  False\n",
       "Activity                  False\n",
       "Name                      False\n",
       "Sex                       False\n",
       "Age                       False\n",
       "Injury                    False\n",
       "Fatal (Y/N)               False\n",
       "Time                       True\n",
       "Species                    True\n",
       "Investigator or Source    False\n",
       "href formula              False\n",
       "dtype: bool"
      ]
     },
     "execution_count": 23,
     "metadata": {},
     "output_type": "execute_result"
    }
   ],
   "source": [
    "# find cols with na-vals > 50%  \n",
    "navals[navals.gt(0)]/len(wdf) >= 0.45\n",
    "    # check values for concerned col 'time' and col 'Species' to validate importance"
   ]
  },
  {
   "cell_type": "code",
   "execution_count": 24,
   "metadata": {
    "scrolled": true
   },
   "outputs": [
    {
     "data": {
      "text/plain": [
       "Afternoon                  174\n",
       "11h00                      123\n",
       "12h00                      107\n",
       "Morning                    106\n",
       "15h00                      100\n",
       "                          ... \n",
       "Before daybreak              1\n",
       "Between 05h00 and 08h00      1\n",
       "11h25                        1\n",
       "16h25                        1\n",
       "1500                         1\n",
       "Name: Time, Length: 360, dtype: int64"
      ]
     },
     "execution_count": 24,
     "metadata": {},
     "output_type": "execute_result"
    }
   ],
   "source": [
    "# review val_counts for col 'Time'\n",
    "wdf['Time'].value_counts()\n",
    "  \n",
    "    # deductions: \n",
    "            # data is chaotic\n",
    "            # dtype format != time\n",
    "            # sometimes clustered into unspecified categories\n",
    "            \n",
    "                # conclusion:\n",
    "                    # data is messy and has > 50% NAN: information value not sufficent for further analysis\n",
    "                    # drop col 'Time'\n",
    "#\n",
    "#######################################################################################################################\n",
    "# notes:\n",
    "# .... in case 'Time' should be object for future analysis, it will need format and categorization editing\n",
    "# .... suggestion for possible future survey re-design: checkboxes for categories (e.g. \"morning\",\"evening\"...)\n",
    "#\n",
    "#######################################################################################################################"
   ]
  },
  {
   "cell_type": "code",
   "execution_count": 25,
   "metadata": {},
   "outputs": [
    {
     "data": {
      "text/html": [
       "<div>\n",
       "<style scoped>\n",
       "    .dataframe tbody tr th:only-of-type {\n",
       "        vertical-align: middle;\n",
       "    }\n",
       "\n",
       "    .dataframe tbody tr th {\n",
       "        vertical-align: top;\n",
       "    }\n",
       "\n",
       "    .dataframe thead th {\n",
       "        text-align: right;\n",
       "    }\n",
       "</style>\n",
       "<table border=\"1\" class=\"dataframe\">\n",
       "  <thead>\n",
       "    <tr style=\"text-align: right;\">\n",
       "      <th></th>\n",
       "      <th>Case Number</th>\n",
       "      <th>Date</th>\n",
       "      <th>Year</th>\n",
       "      <th>Type</th>\n",
       "      <th>Country</th>\n",
       "      <th>Area</th>\n",
       "      <th>Location</th>\n",
       "      <th>Activity</th>\n",
       "      <th>Name</th>\n",
       "      <th>Sex</th>\n",
       "      <th>Age</th>\n",
       "      <th>Injury</th>\n",
       "      <th>Fatal (Y/N)</th>\n",
       "      <th>Species</th>\n",
       "      <th>Investigator or Source</th>\n",
       "      <th>href formula</th>\n",
       "    </tr>\n",
       "  </thead>\n",
       "  <tbody>\n",
       "    <tr>\n",
       "      <th>0</th>\n",
       "      <td>2016.09.18.c</td>\n",
       "      <td>18-Sep-16</td>\n",
       "      <td>2016</td>\n",
       "      <td>Unprovoked</td>\n",
       "      <td>USA</td>\n",
       "      <td>Florida</td>\n",
       "      <td>New Smyrna Beach, Volusia County</td>\n",
       "      <td>Surfing</td>\n",
       "      <td>male</td>\n",
       "      <td>M</td>\n",
       "      <td>16</td>\n",
       "      <td>Minor injury to thigh</td>\n",
       "      <td>N</td>\n",
       "      <td>NaN</td>\n",
       "      <td>Orlando Sentinel, 9/19/2016</td>\n",
       "      <td>http://sharkattackfile.net/spreadsheets/pdf_di...</td>\n",
       "    </tr>\n",
       "  </tbody>\n",
       "</table>\n",
       "</div>"
      ],
      "text/plain": [
       "    Case Number       Date  Year        Type Country     Area  \\\n",
       "0  2016.09.18.c  18-Sep-16  2016  Unprovoked     USA  Florida   \n",
       "\n",
       "                           Location Activity  Name Sex  Age  \\\n",
       "0  New Smyrna Beach, Volusia County  Surfing  male    M  16   \n",
       "\n",
       "                  Injury Fatal (Y/N) Species        Investigator or Source  \\\n",
       "0  Minor injury to thigh           N      NaN  Orlando Sentinel, 9/19/2016   \n",
       "\n",
       "                                        href formula  \n",
       "0  http://sharkattackfile.net/spreadsheets/pdf_di...  "
      ]
     },
     "execution_count": 25,
     "metadata": {},
     "output_type": "execute_result"
    }
   ],
   "source": [
    "# drop col pdf & update wdf\n",
    "wdf = wdf.drop(columns='Time')\n",
    "\n",
    "# verification\n",
    "wdf.head(1)"
   ]
  },
  {
   "cell_type": "code",
   "execution_count": 26,
   "metadata": {},
   "outputs": [
    {
     "data": {
      "text/plain": [
       "White shark                                      161\n",
       "Shark involvement not confirmed                   80\n",
       "Tiger shark                                       68\n",
       "Bull shark                                        52\n",
       "6' shark                                          40\n",
       "                                                ... \n",
       "Raggedtooth shark, 2.7 m [9']                      1\n",
       "1.8 m to 2.1 m [6' to 7'] hammerhead shark         1\n",
       "6' shark, possibly a blactip or spinner shark      1\n",
       "3 m hammerhead shark                               1\n",
       "3.5 m [11'6\"] shark captured                       1\n",
       "Name: Species , Length: 1542, dtype: int64"
      ]
     },
     "execution_count": 26,
     "metadata": {},
     "output_type": "execute_result"
    }
   ],
   "source": [
    "# what is in col 'Species'?\n",
    "wdf['Species '].value_counts()\n",
    "\n",
    "    # deduction: categories not clearly defined\n",
    "    \n",
    "        # conclusion: \n",
    "                   # - keep col in the first instance, \n",
    "        #                  because shark species may become relevant as dependent variable for certain subsets later\n",
    "                   # - rename col to flag requirement of further cleaning and categorization    \n",
    "            \n",
    "#######################################################################################################################\n",
    "# notes:\n",
    "# .... col \"Species\" needs further inspection + evaluation + categorization as case may be\n",
    "#\n",
    "#######################################################################################################################"
   ]
  },
  {
   "cell_type": "code",
   "execution_count": 27,
   "metadata": {},
   "outputs": [
    {
     "data": {
      "text/html": [
       "<div>\n",
       "<style scoped>\n",
       "    .dataframe tbody tr th:only-of-type {\n",
       "        vertical-align: middle;\n",
       "    }\n",
       "\n",
       "    .dataframe tbody tr th {\n",
       "        vertical-align: top;\n",
       "    }\n",
       "\n",
       "    .dataframe thead th {\n",
       "        text-align: right;\n",
       "    }\n",
       "</style>\n",
       "<table border=\"1\" class=\"dataframe\">\n",
       "  <thead>\n",
       "    <tr style=\"text-align: right;\">\n",
       "      <th></th>\n",
       "      <th>Case Number</th>\n",
       "      <th>Date</th>\n",
       "      <th>Year</th>\n",
       "      <th>Type</th>\n",
       "      <th>Country</th>\n",
       "      <th>Area</th>\n",
       "      <th>Location</th>\n",
       "      <th>Activity</th>\n",
       "      <th>Name</th>\n",
       "      <th>Sex</th>\n",
       "      <th>Age</th>\n",
       "      <th>Injury</th>\n",
       "      <th>Fatal (Y/N)</th>\n",
       "      <th>CLEAN_ME Species</th>\n",
       "      <th>Investigator or Source</th>\n",
       "      <th>href formula</th>\n",
       "    </tr>\n",
       "  </thead>\n",
       "  <tbody>\n",
       "    <tr>\n",
       "      <th>0</th>\n",
       "      <td>2016.09.18.c</td>\n",
       "      <td>18-Sep-16</td>\n",
       "      <td>2016</td>\n",
       "      <td>Unprovoked</td>\n",
       "      <td>USA</td>\n",
       "      <td>Florida</td>\n",
       "      <td>New Smyrna Beach, Volusia County</td>\n",
       "      <td>Surfing</td>\n",
       "      <td>male</td>\n",
       "      <td>M</td>\n",
       "      <td>16</td>\n",
       "      <td>Minor injury to thigh</td>\n",
       "      <td>N</td>\n",
       "      <td>NaN</td>\n",
       "      <td>Orlando Sentinel, 9/19/2016</td>\n",
       "      <td>http://sharkattackfile.net/spreadsheets/pdf_di...</td>\n",
       "    </tr>\n",
       "  </tbody>\n",
       "</table>\n",
       "</div>"
      ],
      "text/plain": [
       "    Case Number       Date  Year        Type Country     Area  \\\n",
       "0  2016.09.18.c  18-Sep-16  2016  Unprovoked     USA  Florida   \n",
       "\n",
       "                           Location Activity  Name Sex  Age  \\\n",
       "0  New Smyrna Beach, Volusia County  Surfing  male    M  16   \n",
       "\n",
       "                  Injury Fatal (Y/N) CLEAN_ME Species  \\\n",
       "0  Minor injury to thigh           N              NaN   \n",
       "\n",
       "        Investigator or Source  \\\n",
       "0  Orlando Sentinel, 9/19/2016   \n",
       "\n",
       "                                        href formula  \n",
       "0  http://sharkattackfile.net/spreadsheets/pdf_di...  "
      ]
     },
     "execution_count": 27,
     "metadata": {},
     "output_type": "execute_result"
    }
   ],
   "source": [
    "# renaming & updating df\n",
    "wdf = wdf.rename(columns={'Species ':'CLEAN_ME Species'})\n",
    "\n",
    "# verify\n",
    "wdf.head(1)"
   ]
  },
  {
   "cell_type": "markdown",
   "metadata": {},
   "source": [
    "# Format \n",
    "\n",
    "## dtypes\n"
   ]
  },
  {
   "cell_type": "code",
   "execution_count": 28,
   "metadata": {},
   "outputs": [
    {
     "data": {
      "text/plain": [
       "Case Number               object\n",
       "Date                      object\n",
       "Year                       int64\n",
       "Type                      object\n",
       "Country                   object\n",
       "Area                      object\n",
       "Location                  object\n",
       "Activity                  object\n",
       "Name                      object\n",
       "Sex                       object\n",
       "Age                       object\n",
       "Injury                    object\n",
       "Fatal (Y/N)               object\n",
       "CLEAN_ME Species          object\n",
       "Investigator or Source    object\n",
       "href formula              object\n",
       "dtype: object"
      ]
     },
     "execution_count": 28,
     "metadata": {},
     "output_type": "execute_result"
    }
   ],
   "source": [
    "# get new dtype overview for condensed df\n",
    "wdf.dtypes\n",
    "\n",
    "#\n",
    "#######################################################################################################################\n",
    "#\n",
    "# notes:\n",
    "#\n",
    "# ..... - col 'Age' not numeric\n",
    "#                --> to do:  \n",
    "#                       (!) dtype format to int\n",
    "#                       (!) consider categorization (maby age groups per 5 or 10 years?)\n",
    "#\n",
    "#\n",
    "# ..... - cols 'Date' and 'Year' not in datetime + potentially redundant \n",
    "#                --> to do:  \n",
    "#                       (!) dtype format\n",
    "#                       (!) merge to one col\n",
    "#\n",
    "# ..... - col 'type' needs further research of the meanings \"Unprovoked\" vs \"Provoked\" to evaluate data\n",
    "#                --> to do: \n",
    "#                       (!) research meaning of 'un/provoked' in connection with shark attact\n",
    "#                       (!) plan next steps concerning this col data\n",
    "#\n",
    "# ..... - cols 'Country', 'Area','Location' appear to be redundant\n",
    "#                --> to do: \n",
    "#                       (!) evaluate redundance of data in these cols\n",
    "#                       (!) check for possible merging and format changes\n",
    "#                       (!) check for possible clustering to categories\n",
    "#\n",
    "# ..... - cols 'Injury' and 'Fatal' appear to be redundant\n",
    "#                --> to do: \n",
    "#                       (!) evaluate redundance of data in these cols\n",
    "#                       (!) check for possible merging and format changes\n",
    "#                       (!) check for possible clustering to categories\n",
    "#\n",
    "# ..... - cols 'Species' & 'Activity' & 'Investigator or Source may need categorization & data beautification\n",
    "#                --> to do: \n",
    "#                       (!) count vals in this col\n",
    "#                       (!) consider categorization\n",
    "#                       (!) consider valu beautification\n",
    "#                     \n",
    "# ..... - col 'Case Numer' is not numeric and needs validation of information value\n",
    "#                --> to do: \n",
    "#                       (!) evaluate infomation value\n",
    "#                       (!) consider dtype change to numeric\n",
    "#                       (!) consider change to index\n",
    "#\n",
    "# ..... - df index and shape evaluation\n",
    "#                --> to do: \n",
    "#                       (!) consider reindexing\n",
    "#                       (!) group remaining data for independent val in col \"Year\" - \"Location\" \n",
    "#\n",
    "# ..... - further analysis:\n",
    "#                --> to do: \n",
    "#                       (!) New Col: Number of attacts per Year\n",
    "#                       (!) New Col: Research num of citizens for Location/Year and \n",
    "#                                              generate num \"Attacs per head / per 1000 citizens\"\n",
    "# \n",
    "#######################################################################################################################"
   ]
  },
  {
   "cell_type": "code",
   "execution_count": 29,
   "metadata": {},
   "outputs": [],
   "source": [
    "# col 'Age' - evaluation:\n",
    "#\n",
    "            # quote to-do-list:\n",
    "            # ..... - col 'Age' not numeric\n",
    "            #                --> to do:  \n",
    "            #                       (!) dtype format to int\n",
    "            #                       (!) consider categorization (maby age groups per 5 or 10 years?)"
   ]
  },
  {
   "cell_type": "code",
   "execution_count": 30,
   "metadata": {},
   "outputs": [],
   "source": [
    "# safety first: temp = df copy\n",
    "temp=wdf.copy()"
   ]
  },
  {
   "cell_type": "code",
   "execution_count": 31,
   "metadata": {},
   "outputs": [
    {
     "data": {
      "text/plain": [
       "Teen        8\n",
       "30s         7\n",
       "20s         6\n",
       "teen        5\n",
       "FATAL       3\n",
       "           ..\n",
       "9 months    1\n",
       "60s         1\n",
       "30 or 36    1\n",
       "28 & 26     1\n",
       "21 & ?      1\n",
       "Name: Age, Length: 77, dtype: int64"
      ]
     },
     "execution_count": 31,
     "metadata": {},
     "output_type": "execute_result"
    }
   ],
   "source": [
    "# find all non numeric vals and count them\n",
    "temp['Age'].where((temp['Age'].str.isnumeric())==False).value_counts()"
   ]
  },
  {
   "cell_type": "code",
   "execution_count": 32,
   "metadata": {},
   "outputs": [],
   "source": [
    "# count of non-numerics shows top-5: \n",
    "# Teen                        8\n",
    "# 30s                         7\n",
    "# 20s                         6\n",
    "# teen                        5\n",
    "# FATAL                       3\n",
    "\n",
    "# decision: \n",
    "# - replace 20s with 25, 30s with 35 ...\n",
    "# - replace Teen/teen with 15\n",
    "\n",
    "     \n",
    "temp['Age'] = temp['Age'].str.replace('30s', '35').replace('20s','25').replace('40s', '45').replace('Teen','15').replace('60\\'s','65').replace('>50','55').replace('teen','15').replace('50s','55').replace('60s','65').replace('mid-30', '35').replace('mid-20s','25')\n"
   ]
  },
  {
   "cell_type": "code",
   "execution_count": 33,
   "metadata": {},
   "outputs": [
    {
     "data": {
      "text/plain": [
       "8 or 10                      2\n",
       "7 or 8                       2\n",
       "7      &    31               1\n",
       "28 & 26                      1\n",
       "17 & 35                      1\n",
       "9 & 12                       1\n",
       "?    &   14                  1\n",
       "Ca. 33                       1\n",
       "21, 34,24 & 35               1\n",
       "mid-35                       1\n",
       "33 or 37                     1\n",
       "23 & 20                      1\n",
       "9 or 10                      1\n",
       "30 & 32                      1\n",
       "31 or 33                     1\n",
       "2?                           1\n",
       "25 to 35                     1\n",
       "30 or 36                     1\n",
       "25 or 28                     1\n",
       "33 & 37                      1\n",
       "16 to 18                     1\n",
       "6?                           1\n",
       "28, 23 & 30                  1\n",
       "23 & 26                      1\n",
       "18 to 22                     1\n",
       "50 & 30                      1\n",
       "13 or 14                     1\n",
       "21 or 26                     1\n",
       "33 & 26                      1\n",
       "36 & 26                      1\n",
       "20?                          1\n",
       "2 to 3 months                1\n",
       "17 & 16                      1\n",
       "10 or 12                     1\n",
       "36 & 23                      1\n",
       "34 & 19                      1\n",
       "? & 19                       1\n",
       "20 cm injury to left foot    1\n",
       "9 months                     1\n",
       "Both 11                      1\n",
       "37, 67, 35, 27,  ? & 27      1\n",
       "12 or 13                     1\n",
       "32 & 30                      1\n",
       "46 & 34                      1\n",
       "18 or 20                     1\n",
       "18 months                    1\n",
       "13 or 18                     1\n",
       "21 & ?                       1\n",
       "Name: Age, dtype: int64"
      ]
     },
     "execution_count": 33,
     "metadata": {},
     "output_type": "execute_result"
    }
   ],
   "source": [
    "# closer look at remaining messy vals \n",
    "temp['Age'].where((temp['Age'].str.isnumeric())==False).where((temp['Age'].str.contains(r'[0-9]')==True)).dropna().value_counts()\n"
   ]
  },
  {
   "cell_type": "code",
   "execution_count": 34,
   "metadata": {},
   "outputs": [],
   "source": [
    "#######################################################################################################################\n",
    "#\n",
    "# notes:\n",
    "#  \n",
    "# -> ->> some rows seem to contain the ages of more than one person \n",
    "#                    - -  but count of these vals are not mirroring the number of ages implied\n",
    "#   \n",
    "# -> ->> remaining 66 rows would need deeper investigation to decide how to deal with them\n",
    "#\n",
    "# -> ->> some rows seem to be slipt along cols (e.g. rows with val 'FATAL')\n",
    "#\n",
    "#######################################################################################################################"
   ]
  },
  {
   "cell_type": "code",
   "execution_count": 35,
   "metadata": {},
   "outputs": [
    {
     "data": {
      "text/plain": [
       "226     FATAL\n",
       "5501    FATAL\n",
       "5804    FATAL\n",
       "Name: Age, dtype: object"
      ]
     },
     "execution_count": 35,
     "metadata": {},
     "output_type": "execute_result"
    }
   ],
   "source": [
    "# checking 'FATAL' (val seems to be in the wrong col)\n",
    "temp['Age'].where((temp['Age']=='FATAL')==True).dropna()"
   ]
  },
  {
   "cell_type": "code",
   "execution_count": 36,
   "metadata": {},
   "outputs": [
    {
     "data": {
      "text/plain": [
       "226     Y\n",
       "5501    Y\n",
       "5804    Y\n",
       "Name: Injury, dtype: object"
      ]
     },
     "execution_count": 36,
     "metadata": {},
     "output_type": "execute_result"
    }
   ],
   "source": [
    "#checking val in neighbor col for these rows\n",
    "temp['Injury'].where((temp['Age']=='FATAL')==True).dropna()\n",
    "    # ->> shows 'Y' matches 'Y'/'N' categories of the following col 'Fatal (Y/N)'\n",
    "    # ->> assuming all data of these rows need to be moved one cell to the "
   ]
  },
  {
   "cell_type": "code",
   "execution_count": 37,
   "metadata": {},
   "outputs": [
    {
     "data": {
      "text/html": [
       "<div>\n",
       "<style scoped>\n",
       "    .dataframe tbody tr th:only-of-type {\n",
       "        vertical-align: middle;\n",
       "    }\n",
       "\n",
       "    .dataframe tbody tr th {\n",
       "        vertical-align: top;\n",
       "    }\n",
       "\n",
       "    .dataframe thead th {\n",
       "        text-align: right;\n",
       "    }\n",
       "</style>\n",
       "<table border=\"1\" class=\"dataframe\">\n",
       "  <thead>\n",
       "    <tr style=\"text-align: right;\">\n",
       "      <th></th>\n",
       "      <th>Case Number</th>\n",
       "      <th>Date</th>\n",
       "      <th>Year</th>\n",
       "      <th>Type</th>\n",
       "      <th>Country</th>\n",
       "      <th>Area</th>\n",
       "      <th>Location</th>\n",
       "      <th>Activity</th>\n",
       "      <th>Name</th>\n",
       "      <th>Sex</th>\n",
       "      <th>Age</th>\n",
       "      <th>Injury</th>\n",
       "      <th>Fatal (Y/N)</th>\n",
       "      <th>CLEAN_ME Species</th>\n",
       "      <th>Investigator or Source</th>\n",
       "      <th>href formula</th>\n",
       "    </tr>\n",
       "  </thead>\n",
       "  <tbody>\n",
       "    <tr>\n",
       "      <th>226</th>\n",
       "      <td>2015.02.14</td>\n",
       "      <td>14-Feb-15</td>\n",
       "      <td>2015</td>\n",
       "      <td>Unprovoked</td>\n",
       "      <td>REUNION</td>\n",
       "      <td>d??ang-Sal?Ravine Mula</td>\n",
       "      <td>Swimming</td>\n",
       "      <td>Talon Bishop</td>\n",
       "      <td>F</td>\n",
       "      <td>22</td>\n",
       "      <td>FATAL</td>\n",
       "      <td>Y</td>\n",
       "      <td>18h30</td>\n",
       "      <td>L'Yonne R?ublicaine, 2/14/2015</td>\n",
       "      <td>2015.02.14-Bishop.pdf</td>\n",
       "      <td>http://sharkattackfile.net/spreadsheets/pdf_di...</td>\n",
       "    </tr>\n",
       "    <tr>\n",
       "      <th>5501</th>\n",
       "      <td>1887.01.20</td>\n",
       "      <td>20-Jan-1887</td>\n",
       "      <td>1887</td>\n",
       "      <td>Sea Disaster</td>\n",
       "      <td>BRAZIL</td>\n",
       "      <td>Alagoas</td>\n",
       "      <td>Macei?The passenger ship Kapuna was run down t...</td>\n",
       "      <td>Whittle</td>\n",
       "      <td>M</td>\n",
       "      <td>NaN</td>\n",
       "      <td>FATAL</td>\n",
       "      <td>Y</td>\n",
       "      <td>03h00</td>\n",
       "      <td>Brisbane Courier, 4/14/1887</td>\n",
       "      <td>1887.01.20-Whittle.pdf</td>\n",
       "      <td>http://sharkattackfile.net/spreadsheets/pdf_di...</td>\n",
       "    </tr>\n",
       "    <tr>\n",
       "      <th>5804</th>\n",
       "      <td>1830.04.30</td>\n",
       "      <td>30-Apr-1830</td>\n",
       "      <td>1830</td>\n",
       "      <td>Unprovoked</td>\n",
       "      <td>INDIA</td>\n",
       "      <td>Tamil Nadu</td>\n",
       "      <td>St. Thom?Bathing</td>\n",
       "      <td>Ensign Bromwick</td>\n",
       "      <td>M</td>\n",
       "      <td>NaN</td>\n",
       "      <td>FATAL</td>\n",
       "      <td>Y</td>\n",
       "      <td>17h00-18h00</td>\n",
       "      <td>Madras Gazette, 5/1/1830</td>\n",
       "      <td>1830.04.30-Bromwick.pdf</td>\n",
       "      <td>http://sharkattackfile.net/spreadsheets/pdf_di...</td>\n",
       "    </tr>\n",
       "  </tbody>\n",
       "</table>\n",
       "</div>"
      ],
      "text/plain": [
       "     Case Number         Date  Year          Type  Country  \\\n",
       "226   2015.02.14    14-Feb-15  2015    Unprovoked  REUNION   \n",
       "5501  1887.01.20  20-Jan-1887  1887  Sea Disaster   BRAZIL   \n",
       "5804  1830.04.30  30-Apr-1830  1830    Unprovoked    INDIA   \n",
       "\n",
       "                        Area  \\\n",
       "226   d??ang-Sal?Ravine Mula   \n",
       "5501                 Alagoas   \n",
       "5804              Tamil Nadu   \n",
       "\n",
       "                                               Location         Activity Name  \\\n",
       "226                                            Swimming     Talon Bishop    F   \n",
       "5501  Macei?The passenger ship Kapuna was run down t...          Whittle    M   \n",
       "5804                                   St. Thom?Bathing  Ensign Bromwick    M   \n",
       "\n",
       "     Sex     Age Injury  Fatal (Y/N)                CLEAN_ME Species  \\\n",
       "226    22  FATAL      Y        18h30  L'Yonne R?ublicaine, 2/14/2015   \n",
       "5501  NaN  FATAL      Y        03h00     Brisbane Courier, 4/14/1887   \n",
       "5804  NaN  FATAL      Y  17h00-18h00        Madras Gazette, 5/1/1830   \n",
       "\n",
       "       Investigator or Source  \\\n",
       "226    2015.02.14-Bishop.pdf    \n",
       "5501   1887.01.20-Whittle.pdf   \n",
       "5804  1830.04.30-Bromwick.pdf   \n",
       "\n",
       "                                           href formula  \n",
       "226   http://sharkattackfile.net/spreadsheets/pdf_di...  \n",
       "5501  http://sharkattackfile.net/spreadsheets/pdf_di...  \n",
       "5804  http://sharkattackfile.net/spreadsheets/pdf_di...  "
      ]
     },
     "execution_count": 37,
     "metadata": {},
     "output_type": "execute_result"
    }
   ],
   "source": [
    "# look at concerned rows\n",
    "temp.loc[((temp['Age']=='FATAL')==True)]\n",
    "    # these rows seem to be even more chaotic (dates are strange too...)\n",
    "    # drop these rows completely"
   ]
  },
  {
   "cell_type": "code",
   "execution_count": 38,
   "metadata": {},
   "outputs": [],
   "source": [
    "# drop them messy messy rows!\n",
    "temp = temp.drop([226,5501,5804],axis=0)\n",
    "# & update df"
   ]
  },
  {
   "cell_type": "code",
   "execution_count": 39,
   "metadata": {},
   "outputs": [
    {
     "data": {
      "text/plain": [
       "8 or 10    2\n",
       "F          2\n",
       "           2\n",
       "young      2\n",
       "7 or 8     2\n",
       "          ..\n",
       "36 & 26    1\n",
       "20?        1\n",
       "17 & 16    1\n",
       "(adult)    1\n",
       "21 & ?     1\n",
       "Name: Age, Length: 66, dtype: int64"
      ]
     },
     "execution_count": 39,
     "metadata": {},
     "output_type": "execute_result"
    }
   ],
   "source": [
    "# review count of no-num-vals \n",
    "temp['Age'].where((temp['Age'].str.isnumeric())==False).dropna().value_counts()"
   ]
  },
  {
   "cell_type": "code",
   "execution_count": 40,
   "metadata": {},
   "outputs": [
    {
     "data": {
      "text/plain": [
       "0.010853230923359493"
      ]
     },
     "execution_count": 40,
     "metadata": {},
     "output_type": "execute_result"
    }
   ],
   "source": [
    "#   -> -> these remaining rows would need deeper investigation to decide how to deal with them\n",
    "#\n",
    "# checking percentage for count of these rows of df:\n",
    "#\n",
    "65/len(temp)\n",
    "             # out: 0.010....\n",
    "    #\n",
    "    # decision: 0.010% is not enough to go into deep investigation -> drop them messy rows now! "
   ]
  },
  {
   "cell_type": "code",
   "execution_count": 41,
   "metadata": {},
   "outputs": [
    {
     "data": {
      "text/plain": [
       "Int64Index([ 224,  384,  475, 1043, 1083, 1101, 1212, 1282, 1284, 1301, 1366,\n",
       "            1519, 1520, 1600, 1601, 1657, 1677, 1701, 1725, 1731, 1802, 2197,\n",
       "            2216, 2286, 2535, 2655, 2758, 2883, 2962, 3150, 3212, 3233, 3291,\n",
       "            3320, 3420, 3516, 3576, 3654, 3707, 3760, 3772, 3783, 3809, 3813,\n",
       "            3826, 3838, 3849, 3852, 3892, 3987, 4164, 4220, 4262, 4360, 4402,\n",
       "            4449, 4573, 4590, 4656, 4769, 4853, 4939, 4950, 5080, 5202, 5247,\n",
       "            5349, 5730, 5780, 5837, 5955],\n",
       "           dtype='int64')"
      ]
     },
     "execution_count": 41,
     "metadata": {},
     "output_type": "execute_result"
    }
   ],
   "source": [
    "# getting index....\n",
    "temp['Age'].where((temp['Age'].str.isnumeric())==False).dropna().index"
   ]
  },
  {
   "cell_type": "code",
   "execution_count": 42,
   "metadata": {},
   "outputs": [],
   "source": [
    "# ...and drop them messy rows and update df\n",
    "temp = temp.drop([224,  384,  475, 1043, 1083, 1101, 1212, 1282, 1284, 1301, 1366,\n",
    "            1519, 1520, 1600, 1601, 1657, 1677, 1701, 1725, 1731, 1802, 2197,\n",
    "            2216, 2286, 2535, 2655, 2758, 2883, 2962, 3150, 3212, 3233, 3291,\n",
    "            3320, 3420, 3516, 3576, 3654, 3707, 3760, 3772, 3783, 3809, 3813,\n",
    "            3826, 3838, 3849, 3852, 3892, 3987, 4164, 4220, 4262, 4360, 4402,\n",
    "            4449, 4573, 4590, 4656, 4769, 4853, 4939, 4950, 5080, 5202, 5247,\n",
    "            5349, 5730, 5780, 5837, 5955],axis=0)"
   ]
  },
  {
   "cell_type": "code",
   "execution_count": 73,
   "metadata": {},
   "outputs": [],
   "source": [
    "# rest dtype to numeric\n",
    "temp['Age'] = pd.to_numeric(temp['Age'], downcast='signed')"
   ]
  },
  {
   "cell_type": "code",
   "execution_count": 74,
   "metadata": {},
   "outputs": [
    {
     "data": {
      "text/plain": [
       "Case Number                object\n",
       "Date                       object\n",
       "Year                        int64\n",
       "Type                       object\n",
       "Country                    object\n",
       "Area                       object\n",
       "Location                   object\n",
       "Activity                   object\n",
       "Name                       object\n",
       "Sex                        object\n",
       "Age                       float64\n",
       "Injury                     object\n",
       "Fatal (Y/N)                object\n",
       "CLEAN_ME Species           object\n",
       "Investigator or Source     object\n",
       "href formula               object\n",
       "dtype: object"
      ]
     },
     "execution_count": 74,
     "metadata": {},
     "output_type": "execute_result"
    }
   ],
   "source": [
    "#check df dtypes again\n",
    "temp.dtypes"
   ]
  },
  {
   "cell_type": "code",
   "execution_count": 77,
   "metadata": {},
   "outputs": [
    {
     "data": {
      "text/plain": [
       "0       16\n",
       "1       36\n",
       "2       43\n",
       "6       65\n",
       "7       51\n",
       "        ..\n",
       "5932     6\n",
       "5933    16\n",
       "5944    50\n",
       "5966    16\n",
       "5991    15\n",
       "Name: Age, Length: 3240, dtype: int32"
      ]
     },
     "execution_count": 77,
     "metadata": {},
     "output_type": "execute_result"
    }
   ],
   "source": [
    "#set dtype to int\n",
    "temp['Age'].dropna().astype(int)"
   ]
  },
  {
   "cell_type": "code",
   "execution_count": 79,
   "metadata": {},
   "outputs": [
    {
     "data": {
      "text/plain": [
       "Case Number                  0\n",
       "Date                         0\n",
       "Year                         0\n",
       "Type                         0\n",
       "Country                     43\n",
       "Area                       402\n",
       "Location                   496\n",
       "Activity                   527\n",
       "Name                       201\n",
       "Sex                        569\n",
       "Age                       2678\n",
       "Injury                      27\n",
       "Fatal (Y/N)                 20\n",
       "Time                      3215\n",
       "Species                   2931\n",
       "Investigator or Source      15\n",
       "href formula                 1\n",
       "dtype: int64"
      ]
     },
     "execution_count": 79,
     "metadata": {},
     "output_type": "execute_result"
    }
   ],
   "source": [
    "#review navals to confirm remaining nas \n",
    "navals"
   ]
  },
  {
   "cell_type": "code",
   "execution_count": 80,
   "metadata": {},
   "outputs": [],
   "source": [
    "# close working step for col Age by setting wdf to temp\n",
    "wdf = temp"
   ]
  },
  {
   "cell_type": "code",
   "execution_count": 81,
   "metadata": {},
   "outputs": [
    {
     "data": {
      "text/html": [
       "<div>\n",
       "<style scoped>\n",
       "    .dataframe tbody tr th:only-of-type {\n",
       "        vertical-align: middle;\n",
       "    }\n",
       "\n",
       "    .dataframe tbody tr th {\n",
       "        vertical-align: top;\n",
       "    }\n",
       "\n",
       "    .dataframe thead th {\n",
       "        text-align: right;\n",
       "    }\n",
       "</style>\n",
       "<table border=\"1\" class=\"dataframe\">\n",
       "  <thead>\n",
       "    <tr style=\"text-align: right;\">\n",
       "      <th></th>\n",
       "      <th>Year</th>\n",
       "      <th>Age</th>\n",
       "    </tr>\n",
       "  </thead>\n",
       "  <tbody>\n",
       "    <tr>\n",
       "      <th>count</th>\n",
       "      <td>5918.000000</td>\n",
       "      <td>3240.000000</td>\n",
       "    </tr>\n",
       "    <tr>\n",
       "      <th>mean</th>\n",
       "      <td>1925.072829</td>\n",
       "      <td>27.148148</td>\n",
       "    </tr>\n",
       "    <tr>\n",
       "      <th>std</th>\n",
       "      <td>287.097291</td>\n",
       "      <td>13.747658</td>\n",
       "    </tr>\n",
       "    <tr>\n",
       "      <th>min</th>\n",
       "      <td>0.000000</td>\n",
       "      <td>1.000000</td>\n",
       "    </tr>\n",
       "    <tr>\n",
       "      <th>25%</th>\n",
       "      <td>1942.000000</td>\n",
       "      <td>17.000000</td>\n",
       "    </tr>\n",
       "    <tr>\n",
       "      <th>50%</th>\n",
       "      <td>1975.000000</td>\n",
       "      <td>24.000000</td>\n",
       "    </tr>\n",
       "    <tr>\n",
       "      <th>75%</th>\n",
       "      <td>2003.000000</td>\n",
       "      <td>35.000000</td>\n",
       "    </tr>\n",
       "    <tr>\n",
       "      <th>max</th>\n",
       "      <td>2016.000000</td>\n",
       "      <td>87.000000</td>\n",
       "    </tr>\n",
       "  </tbody>\n",
       "</table>\n",
       "</div>"
      ],
      "text/plain": [
       "              Year          Age\n",
       "count  5918.000000  3240.000000\n",
       "mean   1925.072829    27.148148\n",
       "std     287.097291    13.747658\n",
       "min       0.000000     1.000000\n",
       "25%    1942.000000    17.000000\n",
       "50%    1975.000000    24.000000\n",
       "75%    2003.000000    35.000000\n",
       "max    2016.000000    87.000000"
      ]
     },
     "execution_count": 81,
     "metadata": {},
     "output_type": "execute_result"
    }
   ],
   "source": [
    "#and confirm it\n",
    "wdf.describe()"
   ]
  },
  {
   "cell_type": "code",
   "execution_count": 82,
   "metadata": {},
   "outputs": [
    {
     "data": {
      "text/html": [
       "<div>\n",
       "<style scoped>\n",
       "    .dataframe tbody tr th:only-of-type {\n",
       "        vertical-align: middle;\n",
       "    }\n",
       "\n",
       "    .dataframe tbody tr th {\n",
       "        vertical-align: top;\n",
       "    }\n",
       "\n",
       "    .dataframe thead th {\n",
       "        text-align: right;\n",
       "    }\n",
       "</style>\n",
       "<table border=\"1\" class=\"dataframe\">\n",
       "  <thead>\n",
       "    <tr style=\"text-align: right;\">\n",
       "      <th></th>\n",
       "      <th>Case Number</th>\n",
       "      <th>Date</th>\n",
       "      <th>Year</th>\n",
       "      <th>Type</th>\n",
       "      <th>Country</th>\n",
       "      <th>Area</th>\n",
       "      <th>Location</th>\n",
       "      <th>Activity</th>\n",
       "      <th>Name</th>\n",
       "      <th>Sex</th>\n",
       "      <th>Age</th>\n",
       "      <th>Injury</th>\n",
       "      <th>Fatal (Y/N)</th>\n",
       "      <th>CLEAN_ME Species</th>\n",
       "      <th>Investigator or Source</th>\n",
       "      <th>href formula</th>\n",
       "    </tr>\n",
       "  </thead>\n",
       "  <tbody>\n",
       "    <tr>\n",
       "      <th>0</th>\n",
       "      <td>2016.09.18.c</td>\n",
       "      <td>18-Sep-16</td>\n",
       "      <td>2016</td>\n",
       "      <td>Unprovoked</td>\n",
       "      <td>USA</td>\n",
       "      <td>Florida</td>\n",
       "      <td>New Smyrna Beach, Volusia County</td>\n",
       "      <td>Surfing</td>\n",
       "      <td>male</td>\n",
       "      <td>M</td>\n",
       "      <td>16.0</td>\n",
       "      <td>Minor injury to thigh</td>\n",
       "      <td>N</td>\n",
       "      <td>NaN</td>\n",
       "      <td>Orlando Sentinel, 9/19/2016</td>\n",
       "      <td>http://sharkattackfile.net/spreadsheets/pdf_di...</td>\n",
       "    </tr>\n",
       "    <tr>\n",
       "      <th>1</th>\n",
       "      <td>2016.09.18.b</td>\n",
       "      <td>18-Sep-16</td>\n",
       "      <td>2016</td>\n",
       "      <td>Unprovoked</td>\n",
       "      <td>USA</td>\n",
       "      <td>Florida</td>\n",
       "      <td>New Smyrna Beach, Volusia County</td>\n",
       "      <td>Surfing</td>\n",
       "      <td>Chucky Luciano</td>\n",
       "      <td>M</td>\n",
       "      <td>36.0</td>\n",
       "      <td>Lacerations to hands</td>\n",
       "      <td>N</td>\n",
       "      <td>NaN</td>\n",
       "      <td>Orlando Sentinel, 9/19/2016</td>\n",
       "      <td>http://sharkattackfile.net/spreadsheets/pdf_di...</td>\n",
       "    </tr>\n",
       "    <tr>\n",
       "      <th>2</th>\n",
       "      <td>2016.09.18.a</td>\n",
       "      <td>18-Sep-16</td>\n",
       "      <td>2016</td>\n",
       "      <td>Unprovoked</td>\n",
       "      <td>USA</td>\n",
       "      <td>Florida</td>\n",
       "      <td>New Smyrna Beach, Volusia County</td>\n",
       "      <td>Surfing</td>\n",
       "      <td>male</td>\n",
       "      <td>M</td>\n",
       "      <td>43.0</td>\n",
       "      <td>Lacerations to lower leg</td>\n",
       "      <td>N</td>\n",
       "      <td>NaN</td>\n",
       "      <td>Orlando Sentinel, 9/19/2016</td>\n",
       "      <td>http://sharkattackfile.net/spreadsheets/pdf_di...</td>\n",
       "    </tr>\n",
       "    <tr>\n",
       "      <th>3</th>\n",
       "      <td>2016.09.17</td>\n",
       "      <td>17-Sep-16</td>\n",
       "      <td>2016</td>\n",
       "      <td>Unprovoked</td>\n",
       "      <td>AUSTRALIA</td>\n",
       "      <td>Victoria</td>\n",
       "      <td>Thirteenth Beach</td>\n",
       "      <td>Surfing</td>\n",
       "      <td>Rory Angiolella</td>\n",
       "      <td>M</td>\n",
       "      <td>NaN</td>\n",
       "      <td>Struck by fin on chest &amp; leg</td>\n",
       "      <td>N</td>\n",
       "      <td>NaN</td>\n",
       "      <td>The Age, 9/18/2016</td>\n",
       "      <td>http://sharkattackfile.net/spreadsheets/pdf_di...</td>\n",
       "    </tr>\n",
       "    <tr>\n",
       "      <th>4</th>\n",
       "      <td>2016.09.15</td>\n",
       "      <td>16-Sep-16</td>\n",
       "      <td>2016</td>\n",
       "      <td>Unprovoked</td>\n",
       "      <td>AUSTRALIA</td>\n",
       "      <td>Victoria</td>\n",
       "      <td>Bells Beach</td>\n",
       "      <td>Surfing</td>\n",
       "      <td>male</td>\n",
       "      <td>M</td>\n",
       "      <td>NaN</td>\n",
       "      <td>No injury: Knocked off board by shark</td>\n",
       "      <td>N</td>\n",
       "      <td>2 m shark</td>\n",
       "      <td>The Age, 9/16/2016</td>\n",
       "      <td>http://sharkattackfile.net/spreadsheets/pdf_di...</td>\n",
       "    </tr>\n",
       "  </tbody>\n",
       "</table>\n",
       "</div>"
      ],
      "text/plain": [
       "    Case Number       Date  Year        Type    Country      Area  \\\n",
       "0  2016.09.18.c  18-Sep-16  2016  Unprovoked        USA   Florida   \n",
       "1  2016.09.18.b  18-Sep-16  2016  Unprovoked        USA   Florida   \n",
       "2  2016.09.18.a  18-Sep-16  2016  Unprovoked        USA   Florida   \n",
       "3    2016.09.17  17-Sep-16  2016  Unprovoked  AUSTRALIA  Victoria   \n",
       "4    2016.09.15  16-Sep-16  2016  Unprovoked  AUSTRALIA  Victoria   \n",
       "\n",
       "                           Location Activity             Name Sex    Age  \\\n",
       "0  New Smyrna Beach, Volusia County  Surfing             male    M  16.0   \n",
       "1  New Smyrna Beach, Volusia County  Surfing   Chucky Luciano    M  36.0   \n",
       "2  New Smyrna Beach, Volusia County  Surfing             male    M  43.0   \n",
       "3                  Thirteenth Beach  Surfing  Rory Angiolella    M   NaN   \n",
       "4                       Bells Beach  Surfing             male    M   NaN   \n",
       "\n",
       "                                  Injury Fatal (Y/N) CLEAN_ME Species  \\\n",
       "0                  Minor injury to thigh           N              NaN   \n",
       "1                   Lacerations to hands           N              NaN   \n",
       "2               Lacerations to lower leg           N              NaN   \n",
       "3           Struck by fin on chest & leg           N              NaN   \n",
       "4  No injury: Knocked off board by shark           N        2 m shark   \n",
       "\n",
       "        Investigator or Source  \\\n",
       "0  Orlando Sentinel, 9/19/2016   \n",
       "1  Orlando Sentinel, 9/19/2016   \n",
       "2  Orlando Sentinel, 9/19/2016   \n",
       "3           The Age, 9/18/2016   \n",
       "4           The Age, 9/16/2016   \n",
       "\n",
       "                                        href formula  \n",
       "0  http://sharkattackfile.net/spreadsheets/pdf_di...  \n",
       "1  http://sharkattackfile.net/spreadsheets/pdf_di...  \n",
       "2  http://sharkattackfile.net/spreadsheets/pdf_di...  \n",
       "3  http://sharkattackfile.net/spreadsheets/pdf_di...  \n",
       "4  http://sharkattackfile.net/spreadsheets/pdf_di...  "
      ]
     },
     "execution_count": 82,
     "metadata": {},
     "output_type": "execute_result"
    }
   ],
   "source": [
    "#confirm by head\n",
    "wdf.head()"
   ]
  },
  {
   "cell_type": "code",
   "execution_count": 83,
   "metadata": {},
   "outputs": [],
   "source": [
    "# export status to csv\n",
    "#\n",
    "# status: \n",
    "#        work in progress / 23-08-20 \n",
    "#\n",
    "# csv reflecting status -here-\n",
    "#        == \"wdf230820\"\n",
    "#\n",
    "# export:\n",
    "wdf.to_csv('wdf230820.csv')\n"
   ]
  }
 ],
 "metadata": {
  "kernelspec": {
   "display_name": "Python 3",
   "language": "python",
   "name": "python3"
  },
  "language_info": {
   "codemirror_mode": {
    "name": "ipython",
    "version": 3
   },
   "file_extension": ".py",
   "mimetype": "text/x-python",
   "name": "python",
   "nbconvert_exporter": "python",
   "pygments_lexer": "ipython3",
   "version": "3.8.5"
  }
 },
 "nbformat": 4,
 "nbformat_minor": 4
}
